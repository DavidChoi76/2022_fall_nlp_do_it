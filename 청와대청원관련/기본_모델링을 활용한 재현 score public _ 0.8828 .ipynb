{
 "cells": [
  {
   "cell_type": "markdown",
   "metadata": {
    "id": "gpp5oE69sTh1"
   },
   "source": [
    "# DACON\n",
    "\n",
    "\n",
    "\n",
    "## [문자] 청와대 청원 : 청원의 주제가 무엇일까?\n",
    "****"
   ]
  },
  {
   "cell_type": "markdown",
   "metadata": {},
   "source": [
    "**** \n",
    "## 1. Package Import"
   ]
  },
  {
   "cell_type": "code",
   "execution_count": 1,
   "metadata": {
    "executionInfo": {
     "elapsed": 661,
     "status": "ok",
     "timestamp": 1603847873919,
     "user": {
      "displayName": "기세현",
      "photoUrl": "",
      "userId": "06743460080794396829"
     },
     "user_tz": -540
    },
    "id": "AyaCHuIVX-tf"
   },
   "outputs": [],
   "source": [
    "import pandas as pd\n",
    "import numpy as np\n",
    "np.random.seed(456)\n",
    "import re\n",
    "from tqdm import tqdm\n",
    "import matplotlib.pyplot as plt\n",
    "%matplotlib inline"
   ]
  },
  {
   "cell_type": "markdown",
   "metadata": {},
   "source": [
    "****\n",
    "## 2. Data Wrangling"
   ]
  },
  {
   "cell_type": "code",
   "execution_count": 2,
   "metadata": {
    "executionInfo": {
     "elapsed": 3101,
     "status": "ok",
     "timestamp": 1603847877558,
     "user": {
      "displayName": "기세현",
      "photoUrl": "",
      "userId": "06743460080794396829"
     },
     "user_tz": -540
    },
    "id": "DZp3AoZVuuMQ"
   },
   "outputs": [],
   "source": [
    "train_data = pd.read_csv(\"train.csv\").iloc[:, 1:].dropna(how = 'any')\n",
    "train_data.index = range(len(train_data))\n",
    "test_data = pd.read_csv(\"test.csv\").iloc[:, 1:]\n",
    "submission = pd.read_csv(\"sample_submission.csv\")"
   ]
  },
  {
   "cell_type": "code",
   "execution_count": 3,
   "metadata": {
    "colab": {
     "base_uri": "https://localhost:8080/",
     "height": 34
    },
    "executionInfo": {
     "elapsed": 2351,
     "status": "ok",
     "timestamp": 1603847877560,
     "user": {
      "displayName": "기세현",
      "photoUrl": "",
      "userId": "06743460080794396829"
     },
     "user_tz": -540
    },
    "id": "LX80XNDQYEeq",
    "outputId": "ae000e43-a48e-4f70-f42f-0209741b47a4",
    "scrolled": true
   },
   "outputs": [
    {
     "data": {
      "text/plain": [
       "((39992, 2), (5000, 1))"
      ]
     },
     "execution_count": 3,
     "metadata": {},
     "output_type": "execute_result"
    }
   ],
   "source": [
    "train_data.shape, test_data.shape"
   ]
  },
  {
   "cell_type": "code",
   "execution_count": 4,
   "metadata": {
    "colab": {
     "base_uri": "https://localhost:8080/",
     "height": 197
    },
    "executionInfo": {
     "elapsed": 977,
     "status": "ok",
     "timestamp": 1603847877561,
     "user": {
      "displayName": "기세현",
      "photoUrl": "",
      "userId": "06743460080794396829"
     },
     "user_tz": -540
    },
    "id": "-L9lOX2ZPCme",
    "outputId": "a6bec2fd-071e-4c59-f66c-f8427e33e23d"
   },
   "outputs": [
    {
     "data": {
      "text/html": [
       "<div>\n",
       "<style scoped>\n",
       "    .dataframe tbody tr th:only-of-type {\n",
       "        vertical-align: middle;\n",
       "    }\n",
       "\n",
       "    .dataframe tbody tr th {\n",
       "        vertical-align: top;\n",
       "    }\n",
       "\n",
       "    .dataframe thead th {\n",
       "        text-align: right;\n",
       "    }\n",
       "</style>\n",
       "<table border=\"1\" class=\"dataframe\">\n",
       "  <thead>\n",
       "    <tr style=\"text-align: right;\">\n",
       "      <th></th>\n",
       "      <th>category</th>\n",
       "      <th>data</th>\n",
       "    </tr>\n",
       "  </thead>\n",
       "  <tbody>\n",
       "    <tr>\n",
       "      <th>0</th>\n",
       "      <td>2</td>\n",
       "      <td>신혼부부위한 주택정책 보다 보육시설 늘려주세요.. 국민세금으로 일부를 위한 정책펴지...</td>\n",
       "    </tr>\n",
       "    <tr>\n",
       "      <th>1</th>\n",
       "      <td>0</td>\n",
       "      <td>학교이름에 '남자'도 붙여주세요. 울산여자중학교에 재학중인 학생입니다 최근 양성평등...</td>\n",
       "    </tr>\n",
       "    <tr>\n",
       "      <th>2</th>\n",
       "      <td>1</td>\n",
       "      <td>빙상연맹, 대한축구협회등 각종 체육협회의 비리를 철저하게 밝혀주세요.. 최근 동계올...</td>\n",
       "    </tr>\n",
       "    <tr>\n",
       "      <th>3</th>\n",
       "      <td>1</td>\n",
       "      <td>티비 12세,15세 관람가도 연령확인 의무화 하자.. 제기 에전에 티비를 보다가 잠...</td>\n",
       "    </tr>\n",
       "    <tr>\n",
       "      <th>4</th>\n",
       "      <td>1</td>\n",
       "      <td>무더운 여름철엔 남성들도 시원한 자율복장을 해야. 무더운 여름철에는 남성들도 노넥타...</td>\n",
       "    </tr>\n",
       "  </tbody>\n",
       "</table>\n",
       "</div>"
      ],
      "text/plain": [
       "   category                                               data\n",
       "0         2  신혼부부위한 주택정책 보다 보육시설 늘려주세요.. 국민세금으로 일부를 위한 정책펴지...\n",
       "1         0  학교이름에 '남자'도 붙여주세요. 울산여자중학교에 재학중인 학생입니다 최근 양성평등...\n",
       "2         1  빙상연맹, 대한축구협회등 각종 체육협회의 비리를 철저하게 밝혀주세요.. 최근 동계올...\n",
       "3         1  티비 12세,15세 관람가도 연령확인 의무화 하자.. 제기 에전에 티비를 보다가 잠...\n",
       "4         1  무더운 여름철엔 남성들도 시원한 자율복장을 해야. 무더운 여름철에는 남성들도 노넥타..."
      ]
     },
     "execution_count": 4,
     "metadata": {},
     "output_type": "execute_result"
    }
   ],
   "source": [
    "train_data.head()"
   ]
  },
  {
   "cell_type": "code",
   "execution_count": 5,
   "metadata": {
    "colab": {
     "base_uri": "https://localhost:8080/",
     "height": 197
    },
    "executionInfo": {
     "elapsed": 601,
     "status": "ok",
     "timestamp": 1603847878920,
     "user": {
      "displayName": "기세현",
      "photoUrl": "",
      "userId": "06743460080794396829"
     },
     "user_tz": -540
    },
    "id": "svfJbQJIukSb",
    "outputId": "2b8033fa-531d-4838-f2a4-ebacf6773aaf",
    "scrolled": true
   },
   "outputs": [
    {
     "data": {
      "text/html": [
       "<div>\n",
       "<style scoped>\n",
       "    .dataframe tbody tr th:only-of-type {\n",
       "        vertical-align: middle;\n",
       "    }\n",
       "\n",
       "    .dataframe tbody tr th {\n",
       "        vertical-align: top;\n",
       "    }\n",
       "\n",
       "    .dataframe thead th {\n",
       "        text-align: right;\n",
       "    }\n",
       "</style>\n",
       "<table border=\"1\" class=\"dataframe\">\n",
       "  <thead>\n",
       "    <tr style=\"text-align: right;\">\n",
       "      <th></th>\n",
       "      <th>data</th>\n",
       "    </tr>\n",
       "  </thead>\n",
       "  <tbody>\n",
       "    <tr>\n",
       "      <th>0</th>\n",
       "      <td>소년법 폐지해주세요. 법 아래에서 보호받아야 할 아이들이\\n법으로 인해 보호받지 못...</td>\n",
       "    </tr>\n",
       "    <tr>\n",
       "      <th>1</th>\n",
       "      <td>국공립 유치원 증설에 관하여. 국공립 유치원 부지 학보와건립및 증설에\\n*지역 어린...</td>\n",
       "    </tr>\n",
       "    <tr>\n",
       "      <th>2</th>\n",
       "      <td>나경원파면. 나경원의원의  동계올림픽 위원을 파면해 주세요</td>\n",
       "    </tr>\n",
       "    <tr>\n",
       "      <th>3</th>\n",
       "      <td>국민위원에가 삼성편만들어요. 삼성에서 11년간  일하고 혈암과 백혈병 진단을 받은 ...</td>\n",
       "    </tr>\n",
       "    <tr>\n",
       "      <th>4</th>\n",
       "      <td>방과후,유치원,어린이집 영어교육을 유지시켜주세요. 저는 아이 셋 키우는 평범한 주부...</td>\n",
       "    </tr>\n",
       "  </tbody>\n",
       "</table>\n",
       "</div>"
      ],
      "text/plain": [
       "                                                data\n",
       "0  소년법 폐지해주세요. 법 아래에서 보호받아야 할 아이들이\\n법으로 인해 보호받지 못...\n",
       "1  국공립 유치원 증설에 관하여. 국공립 유치원 부지 학보와건립및 증설에\\n*지역 어린...\n",
       "2                   나경원파면. 나경원의원의  동계올림픽 위원을 파면해 주세요\n",
       "3  국민위원에가 삼성편만들어요. 삼성에서 11년간  일하고 혈암과 백혈병 진단을 받은 ...\n",
       "4  방과후,유치원,어린이집 영어교육을 유지시켜주세요. 저는 아이 셋 키우는 평범한 주부..."
      ]
     },
     "execution_count": 5,
     "metadata": {},
     "output_type": "execute_result"
    }
   ],
   "source": [
    "test_data.head()"
   ]
  },
  {
   "cell_type": "markdown",
   "metadata": {},
   "source": [
    "****\n",
    "### Claensing Text"
   ]
  },
  {
   "cell_type": "code",
   "execution_count": 6,
   "metadata": {
    "executionInfo": {
     "elapsed": 942,
     "status": "ok",
     "timestamp": 1603847882836,
     "user": {
      "displayName": "기세현",
      "photoUrl": "",
      "userId": "06743460080794396829"
     },
     "user_tz": -540
    },
    "id": "buInlnlOu6wJ"
   },
   "outputs": [],
   "source": [
    "def clean_text(texts):\n",
    "    corpus = []\n",
    "    for i in range(0, len(texts)):\n",
    "        review = re.sub(r'[@%\\\\*=()/~#&\\+á?\\xc3\\xa1\\-\\|\\.\\:\\;\\!\\-\\,\\_\\~\\$\\'\\\"]', '',str(texts[i])) #remove punctuation\n",
    "        review = re.sub(r'\\d+','', str(texts[i]))# remove number\n",
    "        review = review.lower() #lower case\n",
    "        review = re.sub(r'\\s+', ' ', review) #remove extra space\n",
    "        review = re.sub(r'<[^>]+>','',review) #remove Html tags\n",
    "        review = re.sub(r'\\s+', ' ', review) #remove spaces\n",
    "        review = re.sub(r\"^\\s+\", '', review) #remove space from start\n",
    "        review = re.sub(r'\\s+$', '', review) #remove space from the end\n",
    "        corpus.append(review)\n",
    "    return corpus"
   ]
  },
  {
   "cell_type": "code",
   "execution_count": 7,
   "metadata": {
    "executionInfo": {
     "elapsed": 5991,
     "status": "ok",
     "timestamp": 1603847888754,
     "user": {
      "displayName": "기세현",
      "photoUrl": "",
      "userId": "06743460080794396829"
     },
     "user_tz": -540
    },
    "id": "ZgQ9eSqVcwUY"
   },
   "outputs": [],
   "source": [
    "train_data.data = clean_text(train_data.data)\n",
    "test_data.data = clean_text(test_data.data)"
   ]
  },
  {
   "cell_type": "markdown",
   "metadata": {},
   "source": [
    "****\n",
    "\n",
    "### cleansing string punctuation "
   ]
  },
  {
   "cell_type": "code",
   "execution_count": 8,
   "metadata": {
    "colab": {
     "base_uri": "https://localhost:8080/",
     "height": 215
    },
    "executionInfo": {
     "elapsed": 4447,
     "status": "ok",
     "timestamp": 1603847888756,
     "user": {
      "displayName": "기세현",
      "photoUrl": "",
      "userId": "06743460080794396829"
     },
     "user_tz": -540
    },
    "id": "UfokxaO9YDNC",
    "outputId": "72b86254-2aa5-4b70-a285-6f3a03c33338"
   },
   "outputs": [
    {
     "name": "stderr",
     "output_type": "stream",
     "text": [
      "100%|██████████| 39992/39992 [00:00<00:00, 325882.58it/s]\n"
     ]
    },
    {
     "data": {
      "text/html": [
       "<div>\n",
       "<style scoped>\n",
       "    .dataframe tbody tr th:only-of-type {\n",
       "        vertical-align: middle;\n",
       "    }\n",
       "\n",
       "    .dataframe tbody tr th {\n",
       "        vertical-align: top;\n",
       "    }\n",
       "\n",
       "    .dataframe thead th {\n",
       "        text-align: right;\n",
       "    }\n",
       "</style>\n",
       "<table border=\"1\" class=\"dataframe\">\n",
       "  <thead>\n",
       "    <tr style=\"text-align: right;\">\n",
       "      <th></th>\n",
       "      <th>category</th>\n",
       "      <th>data</th>\n",
       "      <th>clear_text</th>\n",
       "    </tr>\n",
       "  </thead>\n",
       "  <tbody>\n",
       "    <tr>\n",
       "      <th>0</th>\n",
       "      <td>2</td>\n",
       "      <td>신혼부부위한 주택정책 보다 보육시설 늘려주세요.. 국민세금으로 일부를 위한 정책펴지...</td>\n",
       "      <td>신혼부부위한 주택정책 보다 보육시설 늘려주세요.. 국민세금으로 일부를 위한 정책펴지...</td>\n",
       "    </tr>\n",
       "    <tr>\n",
       "      <th>1</th>\n",
       "      <td>0</td>\n",
       "      <td>학교이름에 '남자'도 붙여주세요. 울산여자중학교에 재학중인 학생입니다 최근 양성평등...</td>\n",
       "      <td>학교이름에 '남자'도 붙여주세요. 울산여자중학교에 재학중인 학생입니다 최근 양성평등...</td>\n",
       "    </tr>\n",
       "    <tr>\n",
       "      <th>2</th>\n",
       "      <td>1</td>\n",
       "      <td>빙상연맹, 대한축구협회등 각종 체육협회의 비리를 철저하게 밝혀주세요.. 최근 동계올...</td>\n",
       "      <td>빙상연맹, 대한축구협회등 각종 체육협회의 비리를 철저하게 밝혀주세요.. 최근 동계올...</td>\n",
       "    </tr>\n",
       "    <tr>\n",
       "      <th>3</th>\n",
       "      <td>1</td>\n",
       "      <td>티비 세,세 관람가도 연령확인 의무화 하자.. 제기 에전에 티비를 보다가 잠시 딴일...</td>\n",
       "      <td>티비 세,세 관람가도 연령확인 의무화 하자.. 제기 에전에 티비를 보다가 잠시 딴일...</td>\n",
       "    </tr>\n",
       "    <tr>\n",
       "      <th>4</th>\n",
       "      <td>1</td>\n",
       "      <td>무더운 여름철엔 남성들도 시원한 자율복장을 해야. 무더운 여름철에는 남성들도 노넥타...</td>\n",
       "      <td>무더운 여름철엔 남성들도 시원한 자율복장을 해야. 무더운 여름철에는 남성들도 노넥타...</td>\n",
       "    </tr>\n",
       "  </tbody>\n",
       "</table>\n",
       "</div>"
      ],
      "text/plain": [
       "   category                                               data  \\\n",
       "0         2  신혼부부위한 주택정책 보다 보육시설 늘려주세요.. 국민세금으로 일부를 위한 정책펴지...   \n",
       "1         0  학교이름에 '남자'도 붙여주세요. 울산여자중학교에 재학중인 학생입니다 최근 양성평등...   \n",
       "2         1  빙상연맹, 대한축구협회등 각종 체육협회의 비리를 철저하게 밝혀주세요.. 최근 동계올...   \n",
       "3         1  티비 세,세 관람가도 연령확인 의무화 하자.. 제기 에전에 티비를 보다가 잠시 딴일...   \n",
       "4         1  무더운 여름철엔 남성들도 시원한 자율복장을 해야. 무더운 여름철에는 남성들도 노넥타...   \n",
       "\n",
       "                                          clear_text  \n",
       "0  신혼부부위한 주택정책 보다 보육시설 늘려주세요.. 국민세금으로 일부를 위한 정책펴지...  \n",
       "1  학교이름에 '남자'도 붙여주세요. 울산여자중학교에 재학중인 학생입니다 최근 양성평등...  \n",
       "2  빙상연맹, 대한축구협회등 각종 체육협회의 비리를 철저하게 밝혀주세요.. 최근 동계올...  \n",
       "3  티비 세,세 관람가도 연령확인 의무화 하자.. 제기 에전에 티비를 보다가 잠시 딴일...  \n",
       "4  무더운 여름철엔 남성들도 시원한 자율복장을 해야. 무더운 여름철에는 남성들도 노넥타...  "
      ]
     },
     "execution_count": 8,
     "metadata": {},
     "output_type": "execute_result"
    }
   ],
   "source": [
    "train_data_text = list(train_data['data'])\n",
    "\n",
    "train_clear_text = []\n",
    "\n",
    "for i in tqdm(range(len(train_data_text))):\n",
    "  train_clear_text.append(str(train_data_text[i]).replace('\\\\n', ''))\n",
    "train_data['clear_text'] = train_clear_text\n",
    "train_data.head()"
   ]
  },
  {
   "cell_type": "code",
   "execution_count": 9,
   "metadata": {
    "colab": {
     "base_uri": "https://localhost:8080/",
     "height": 197
    },
    "executionInfo": {
     "elapsed": 1108,
     "status": "ok",
     "timestamp": 1603847889878,
     "user": {
      "displayName": "기세현",
      "photoUrl": "",
      "userId": "06743460080794396829"
     },
     "user_tz": -540
    },
    "id": "PuBaFN-YZT2Z",
    "outputId": "ad21fcfe-fe77-4568-bd46-493e8c86b114"
   },
   "outputs": [
    {
     "data": {
      "text/html": [
       "<div>\n",
       "<style scoped>\n",
       "    .dataframe tbody tr th:only-of-type {\n",
       "        vertical-align: middle;\n",
       "    }\n",
       "\n",
       "    .dataframe tbody tr th {\n",
       "        vertical-align: top;\n",
       "    }\n",
       "\n",
       "    .dataframe thead th {\n",
       "        text-align: right;\n",
       "    }\n",
       "</style>\n",
       "<table border=\"1\" class=\"dataframe\">\n",
       "  <thead>\n",
       "    <tr style=\"text-align: right;\">\n",
       "      <th></th>\n",
       "      <th>category</th>\n",
       "      <th>data</th>\n",
       "      <th>clear_text</th>\n",
       "    </tr>\n",
       "  </thead>\n",
       "  <tbody>\n",
       "    <tr>\n",
       "      <th>0</th>\n",
       "      <td>2</td>\n",
       "      <td>신혼부부위한 주택정책 보다 보육시설 늘려주세요.. 국민세금으로 일부를 위한 정책펴지...</td>\n",
       "      <td>신혼부부위한 주택정책 보다 보육시설 늘려주세요   국민세금으로 일부를 위한 정책펴지...</td>\n",
       "    </tr>\n",
       "    <tr>\n",
       "      <th>1</th>\n",
       "      <td>0</td>\n",
       "      <td>학교이름에 '남자'도 붙여주세요. 울산여자중학교에 재학중인 학생입니다 최근 양성평등...</td>\n",
       "      <td>학교이름에  남자 도 붙여주세요  울산여자중학교에 재학중인 학생입니다 최근 양성평등...</td>\n",
       "    </tr>\n",
       "    <tr>\n",
       "      <th>2</th>\n",
       "      <td>1</td>\n",
       "      <td>빙상연맹, 대한축구협회등 각종 체육협회의 비리를 철저하게 밝혀주세요.. 최근 동계올...</td>\n",
       "      <td>빙상연맹  대한축구협회등 각종 체육협회의 비리를 철저하게 밝혀주세요   최근 동계올...</td>\n",
       "    </tr>\n",
       "    <tr>\n",
       "      <th>3</th>\n",
       "      <td>1</td>\n",
       "      <td>티비 세,세 관람가도 연령확인 의무화 하자.. 제기 에전에 티비를 보다가 잠시 딴일...</td>\n",
       "      <td>티비 세 세 관람가도 연령확인 의무화 하자   제기 에전에 티비를 보다가 잠시 딴일...</td>\n",
       "    </tr>\n",
       "    <tr>\n",
       "      <th>4</th>\n",
       "      <td>1</td>\n",
       "      <td>무더운 여름철엔 남성들도 시원한 자율복장을 해야. 무더운 여름철에는 남성들도 노넥타...</td>\n",
       "      <td>무더운 여름철엔 남성들도 시원한 자율복장을 해야  무더운 여름철에는 남성들도 노넥타...</td>\n",
       "    </tr>\n",
       "  </tbody>\n",
       "</table>\n",
       "</div>"
      ],
      "text/plain": [
       "   category                                               data  \\\n",
       "0         2  신혼부부위한 주택정책 보다 보육시설 늘려주세요.. 국민세금으로 일부를 위한 정책펴지...   \n",
       "1         0  학교이름에 '남자'도 붙여주세요. 울산여자중학교에 재학중인 학생입니다 최근 양성평등...   \n",
       "2         1  빙상연맹, 대한축구협회등 각종 체육협회의 비리를 철저하게 밝혀주세요.. 최근 동계올...   \n",
       "3         1  티비 세,세 관람가도 연령확인 의무화 하자.. 제기 에전에 티비를 보다가 잠시 딴일...   \n",
       "4         1  무더운 여름철엔 남성들도 시원한 자율복장을 해야. 무더운 여름철에는 남성들도 노넥타...   \n",
       "\n",
       "                                          clear_text  \n",
       "0  신혼부부위한 주택정책 보다 보육시설 늘려주세요   국민세금으로 일부를 위한 정책펴지...  \n",
       "1  학교이름에  남자 도 붙여주세요  울산여자중학교에 재학중인 학생입니다 최근 양성평등...  \n",
       "2  빙상연맹  대한축구협회등 각종 체육협회의 비리를 철저하게 밝혀주세요   최근 동계올...  \n",
       "3  티비 세 세 관람가도 연령확인 의무화 하자   제기 에전에 티비를 보다가 잠시 딴일...  \n",
       "4  무더운 여름철엔 남성들도 시원한 자율복장을 해야  무더운 여름철에는 남성들도 노넥타...  "
      ]
     },
     "execution_count": 9,
     "metadata": {},
     "output_type": "execute_result"
    }
   ],
   "source": [
    "train_clear_text = list(train_data['clear_text'])\n",
    "\n",
    "train_clear_text2 = []\n",
    "\n",
    "for text in train_clear_text:\n",
    "  temp = re.sub('[-=+,#:;//●<>▲\\?:^$.☆!★()Ⅰ@*\\\"※~>`\\'…》]', ' ', text)\n",
    "  train_clear_text2.append(temp)\n",
    "train_data['clear_text'] = train_clear_text2\n",
    "train_data.head()"
   ]
  },
  {
   "cell_type": "code",
   "execution_count": 10,
   "metadata": {
    "colab": {
     "base_uri": "https://localhost:8080/",
     "height": 215
    },
    "executionInfo": {
     "elapsed": 1095,
     "status": "ok",
     "timestamp": 1603847889878,
     "user": {
      "displayName": "기세현",
      "photoUrl": "",
      "userId": "06743460080794396829"
     },
     "user_tz": -540
    },
    "id": "UoWiLs67ZY35",
    "outputId": "78b15d12-4dde-4928-c140-bcfea832fcaa"
   },
   "outputs": [
    {
     "name": "stderr",
     "output_type": "stream",
     "text": [
      "100%|██████████| 5000/5000 [00:00<00:00, 230064.40it/s]\n"
     ]
    },
    {
     "data": {
      "text/html": [
       "<div>\n",
       "<style scoped>\n",
       "    .dataframe tbody tr th:only-of-type {\n",
       "        vertical-align: middle;\n",
       "    }\n",
       "\n",
       "    .dataframe tbody tr th {\n",
       "        vertical-align: top;\n",
       "    }\n",
       "\n",
       "    .dataframe thead th {\n",
       "        text-align: right;\n",
       "    }\n",
       "</style>\n",
       "<table border=\"1\" class=\"dataframe\">\n",
       "  <thead>\n",
       "    <tr style=\"text-align: right;\">\n",
       "      <th></th>\n",
       "      <th>data</th>\n",
       "      <th>clear_text</th>\n",
       "    </tr>\n",
       "  </thead>\n",
       "  <tbody>\n",
       "    <tr>\n",
       "      <th>0</th>\n",
       "      <td>소년법 폐지해주세요. 법 아래에서 보호받아야 할 아이들이\\n법으로 인해 보호받지 못...</td>\n",
       "      <td>소년법 폐지해주세요. 법 아래에서 보호받아야 할 아이들이 법으로 인해 보호받지 못하...</td>\n",
       "    </tr>\n",
       "    <tr>\n",
       "      <th>1</th>\n",
       "      <td>국공립 유치원 증설에 관하여. 국공립 유치원 부지 학보와건립및 증설에\\n*지역 어린...</td>\n",
       "      <td>국공립 유치원 증설에 관하여. 국공립 유치원 부지 학보와건립및 증설에 *지역 어린이...</td>\n",
       "    </tr>\n",
       "    <tr>\n",
       "      <th>2</th>\n",
       "      <td>나경원파면. 나경원의원의 동계올림픽 위원을 파면해 주세요</td>\n",
       "      <td>나경원파면. 나경원의원의 동계올림픽 위원을 파면해 주세요</td>\n",
       "    </tr>\n",
       "    <tr>\n",
       "      <th>3</th>\n",
       "      <td>국민위원에가 삼성편만들어요. 삼성에서 년간 일하고 혈암과 백혈병 진단을 받은 사람이...</td>\n",
       "      <td>국민위원에가 삼성편만들어요. 삼성에서 년간 일하고 혈암과 백혈병 진단을 받은 사람이...</td>\n",
       "    </tr>\n",
       "    <tr>\n",
       "      <th>4</th>\n",
       "      <td>방과후,유치원,어린이집 영어교육을 유지시켜주세요. 저는 아이 셋 키우는 평범한 주부...</td>\n",
       "      <td>방과후,유치원,어린이집 영어교육을 유지시켜주세요. 저는 아이 셋 키우는 평범한 주부...</td>\n",
       "    </tr>\n",
       "  </tbody>\n",
       "</table>\n",
       "</div>"
      ],
      "text/plain": [
       "                                                data  \\\n",
       "0  소년법 폐지해주세요. 법 아래에서 보호받아야 할 아이들이\\n법으로 인해 보호받지 못...   \n",
       "1  국공립 유치원 증설에 관하여. 국공립 유치원 부지 학보와건립및 증설에\\n*지역 어린...   \n",
       "2                    나경원파면. 나경원의원의 동계올림픽 위원을 파면해 주세요   \n",
       "3  국민위원에가 삼성편만들어요. 삼성에서 년간 일하고 혈암과 백혈병 진단을 받은 사람이...   \n",
       "4  방과후,유치원,어린이집 영어교육을 유지시켜주세요. 저는 아이 셋 키우는 평범한 주부...   \n",
       "\n",
       "                                          clear_text  \n",
       "0  소년법 폐지해주세요. 법 아래에서 보호받아야 할 아이들이 법으로 인해 보호받지 못하...  \n",
       "1  국공립 유치원 증설에 관하여. 국공립 유치원 부지 학보와건립및 증설에 *지역 어린이...  \n",
       "2                    나경원파면. 나경원의원의 동계올림픽 위원을 파면해 주세요  \n",
       "3  국민위원에가 삼성편만들어요. 삼성에서 년간 일하고 혈암과 백혈병 진단을 받은 사람이...  \n",
       "4  방과후,유치원,어린이집 영어교육을 유지시켜주세요. 저는 아이 셋 키우는 평범한 주부...  "
      ]
     },
     "execution_count": 10,
     "metadata": {},
     "output_type": "execute_result"
    }
   ],
   "source": [
    "test_data_text = list(test_data['data'])\n",
    "\n",
    "test_clear_text = []\n",
    "\n",
    "for i in tqdm(range(len(test_data_text))):\n",
    "  test_clear_text.append(test_data_text[i].replace('\\\\n', ' '))\n",
    "test_data['clear_text'] = test_clear_text\n",
    "test_data.head()"
   ]
  },
  {
   "cell_type": "code",
   "execution_count": 11,
   "metadata": {
    "colab": {
     "base_uri": "https://localhost:8080/",
     "height": 197
    },
    "executionInfo": {
     "elapsed": 824,
     "status": "ok",
     "timestamp": 1603847892627,
     "user": {
      "displayName": "기세현",
      "photoUrl": "",
      "userId": "06743460080794396829"
     },
     "user_tz": -540
    },
    "id": "IyW8wlcxZcPR",
    "outputId": "9b60b99f-c552-45e2-c363-e122c448a850",
    "scrolled": false
   },
   "outputs": [
    {
     "data": {
      "text/html": [
       "<div>\n",
       "<style scoped>\n",
       "    .dataframe tbody tr th:only-of-type {\n",
       "        vertical-align: middle;\n",
       "    }\n",
       "\n",
       "    .dataframe tbody tr th {\n",
       "        vertical-align: top;\n",
       "    }\n",
       "\n",
       "    .dataframe thead th {\n",
       "        text-align: right;\n",
       "    }\n",
       "</style>\n",
       "<table border=\"1\" class=\"dataframe\">\n",
       "  <thead>\n",
       "    <tr style=\"text-align: right;\">\n",
       "      <th></th>\n",
       "      <th>data</th>\n",
       "      <th>clear_text</th>\n",
       "    </tr>\n",
       "  </thead>\n",
       "  <tbody>\n",
       "    <tr>\n",
       "      <th>0</th>\n",
       "      <td>소년법 폐지해주세요. 법 아래에서 보호받아야 할 아이들이\\n법으로 인해 보호받지 못...</td>\n",
       "      <td>소년법 폐지해주세요  법 아래에서 보호받아야 할 아이들이 법으로 인해 보호받지 못하...</td>\n",
       "    </tr>\n",
       "    <tr>\n",
       "      <th>1</th>\n",
       "      <td>국공립 유치원 증설에 관하여. 국공립 유치원 부지 학보와건립및 증설에\\n*지역 어린...</td>\n",
       "      <td>국공립 유치원 증설에 관하여  국공립 유치원 부지 학보와건립및 증설에  지역 어린이...</td>\n",
       "    </tr>\n",
       "    <tr>\n",
       "      <th>2</th>\n",
       "      <td>나경원파면. 나경원의원의 동계올림픽 위원을 파면해 주세요</td>\n",
       "      <td>나경원파면  나경원의원의 동계올림픽 위원을 파면해 주세요</td>\n",
       "    </tr>\n",
       "    <tr>\n",
       "      <th>3</th>\n",
       "      <td>국민위원에가 삼성편만들어요. 삼성에서 년간 일하고 혈암과 백혈병 진단을 받은 사람이...</td>\n",
       "      <td>국민위원에가 삼성편만들어요  삼성에서 년간 일하고 혈암과 백혈병 진단을 받은 사람이...</td>\n",
       "    </tr>\n",
       "    <tr>\n",
       "      <th>4</th>\n",
       "      <td>방과후,유치원,어린이집 영어교육을 유지시켜주세요. 저는 아이 셋 키우는 평범한 주부...</td>\n",
       "      <td>방과후 유치원 어린이집 영어교육을 유지시켜주세요  저는 아이 셋 키우는 평범한 주부...</td>\n",
       "    </tr>\n",
       "  </tbody>\n",
       "</table>\n",
       "</div>"
      ],
      "text/plain": [
       "                                                data  \\\n",
       "0  소년법 폐지해주세요. 법 아래에서 보호받아야 할 아이들이\\n법으로 인해 보호받지 못...   \n",
       "1  국공립 유치원 증설에 관하여. 국공립 유치원 부지 학보와건립및 증설에\\n*지역 어린...   \n",
       "2                    나경원파면. 나경원의원의 동계올림픽 위원을 파면해 주세요   \n",
       "3  국민위원에가 삼성편만들어요. 삼성에서 년간 일하고 혈암과 백혈병 진단을 받은 사람이...   \n",
       "4  방과후,유치원,어린이집 영어교육을 유지시켜주세요. 저는 아이 셋 키우는 평범한 주부...   \n",
       "\n",
       "                                          clear_text  \n",
       "0  소년법 폐지해주세요  법 아래에서 보호받아야 할 아이들이 법으로 인해 보호받지 못하...  \n",
       "1  국공립 유치원 증설에 관하여  국공립 유치원 부지 학보와건립및 증설에  지역 어린이...  \n",
       "2                    나경원파면  나경원의원의 동계올림픽 위원을 파면해 주세요  \n",
       "3  국민위원에가 삼성편만들어요  삼성에서 년간 일하고 혈암과 백혈병 진단을 받은 사람이...  \n",
       "4  방과후 유치원 어린이집 영어교육을 유지시켜주세요  저는 아이 셋 키우는 평범한 주부...  "
      ]
     },
     "execution_count": 11,
     "metadata": {},
     "output_type": "execute_result"
    }
   ],
   "source": [
    "test_clear_text = list(test_data['clear_text'])\n",
    "\n",
    "test_clear_text2 = []\n",
    "\n",
    "for text in test_clear_text:\n",
    "  temp = re.sub('[-=+,#:;//●<>▲\\?:^$.☆!★()Ⅰ@*\\\"※~>`\\'…》]', ' ', text)\n",
    "  test_clear_text2.append(temp)\n",
    "test_data['clear_text'] = test_clear_text2\n",
    "test_data.head()"
   ]
  },
  {
   "cell_type": "markdown",
   "metadata": {},
   "source": [
    "****\n",
    "\n",
    "### Using Mecab for tokenizing"
   ]
  },
  {
   "cell_type": "code",
   "execution_count": 12,
   "metadata": {
    "executionInfo": {
     "elapsed": 2918,
     "status": "ok",
     "timestamp": 1603847951333,
     "user": {
      "displayName": "기세현",
      "photoUrl": "",
      "userId": "06743460080794396829"
     },
     "user_tz": -540
    },
    "id": "gmsDHU2eZxYi"
   },
   "outputs": [],
   "source": [
    "from konlpy.tag import Mecab\n",
    "mecab = Mecab(dicpath=r\"C:\\mecab\\mecab-ko-dic\")"
   ]
  },
  {
   "cell_type": "code",
   "execution_count": 13,
   "metadata": {
    "colab": {
     "base_uri": "https://localhost:8080/",
     "height": 197
    },
    "executionInfo": {
     "elapsed": 2319,
     "status": "ok",
     "timestamp": 1603847951335,
     "user": {
      "displayName": "기세현",
      "photoUrl": "",
      "userId": "06743460080794396829"
     },
     "user_tz": -540
    },
    "id": "wwQdSGr33SnI",
    "outputId": "0e99480f-75c0-4a5b-8b82-488f671c7ab7"
   },
   "outputs": [
    {
     "data": {
      "text/html": [
       "<div>\n",
       "<style scoped>\n",
       "    .dataframe tbody tr th:only-of-type {\n",
       "        vertical-align: middle;\n",
       "    }\n",
       "\n",
       "    .dataframe tbody tr th {\n",
       "        vertical-align: top;\n",
       "    }\n",
       "\n",
       "    .dataframe thead th {\n",
       "        text-align: right;\n",
       "    }\n",
       "</style>\n",
       "<table border=\"1\" class=\"dataframe\">\n",
       "  <thead>\n",
       "    <tr style=\"text-align: right;\">\n",
       "      <th></th>\n",
       "      <th>형태</th>\n",
       "      <th>품사</th>\n",
       "      <th>비율</th>\n",
       "    </tr>\n",
       "  </thead>\n",
       "  <tbody>\n",
       "    <tr>\n",
       "      <th>95</th>\n",
       "      <td>원</td>\n",
       "      <td>NNB</td>\n",
       "      <td>0.000492</td>\n",
       "    </tr>\n",
       "    <tr>\n",
       "      <th>96</th>\n",
       "      <td>잘</td>\n",
       "      <td>MAG</td>\n",
       "      <td>0.000491</td>\n",
       "    </tr>\n",
       "    <tr>\n",
       "      <th>97</th>\n",
       "      <td>통하</td>\n",
       "      <td>VV</td>\n",
       "      <td>0.000487</td>\n",
       "    </tr>\n",
       "    <tr>\n",
       "      <th>98</th>\n",
       "      <td>소리</td>\n",
       "      <td>NNG</td>\n",
       "      <td>0.000486</td>\n",
       "    </tr>\n",
       "    <tr>\n",
       "      <th>99</th>\n",
       "      <td>놓</td>\n",
       "      <td>VX</td>\n",
       "      <td>0.000483</td>\n",
       "    </tr>\n",
       "  </tbody>\n",
       "</table>\n",
       "</div>"
      ],
      "text/plain": [
       "    형태   품사        비율\n",
       "95   원  NNB  0.000492\n",
       "96   잘  MAG  0.000491\n",
       "97  통하   VV  0.000487\n",
       "98  소리  NNG  0.000486\n",
       "99   놓   VX  0.000483"
      ]
     },
     "execution_count": 13,
     "metadata": {},
     "output_type": "execute_result"
    }
   ],
   "source": [
    "stop_df = pd.read_csv('한국어불용어100.txt', sep = '\\t', header = None, names = ['형태','품사','비율'])\n",
    "stop_df.tail()"
   ]
  },
  {
   "cell_type": "code",
   "execution_count": 14,
   "metadata": {
    "executionInfo": {
     "elapsed": 1243,
     "status": "ok",
     "timestamp": 1603847951336,
     "user": {
      "displayName": "기세현",
      "photoUrl": "",
      "userId": "06743460080794396829"
     },
     "user_tz": -540
    },
    "id": "tW3Pwibc3vRF"
   },
   "outputs": [],
   "source": [
    "stop_df.loc[100] = '가'\n",
    "stop_df.loc[101] = '합니다'"
   ]
  },
  {
   "cell_type": "code",
   "execution_count": 15,
   "metadata": {
    "executionInfo": {
     "elapsed": 792,
     "status": "ok",
     "timestamp": 1603847951337,
     "user": {
      "displayName": "기세현",
      "photoUrl": "",
      "userId": "06743460080794396829"
     },
     "user_tz": -540
    },
    "id": "zH-0ijuc35-Z"
   },
   "outputs": [],
   "source": [
    "stop_words = list(stop_df.형태)"
   ]
  },
  {
   "cell_type": "markdown",
   "metadata": {},
   "source": [
    "****\n",
    "\n",
    "### delete outlier data"
   ]
  },
  {
   "cell_type": "code",
   "execution_count": 16,
   "metadata": {
    "executionInfo": {
     "elapsed": 674,
     "status": "ok",
     "timestamp": 1603847951618,
     "user": {
      "displayName": "기세현",
      "photoUrl": "",
      "userId": "06743460080794396829"
     },
     "user_tz": -540
    },
    "id": "GF6VzN6pLYGz"
   },
   "outputs": [],
   "source": [
    "ind_list = [24885, 14916, 14605, 6641, 17406, 26957, 2175, 6885, 8947, 14966, 8198, 25955, 39167,21707, 12678,\n",
    "           3023, 31971, 3730, 37153, 33481, 33369, 12927, 30773, 36431,12373,  37525,27530, 8958, 16884, 18072,\n",
    "           4478, 7940, 16400, 16656]\n",
    "train_data = train_data.query('index not in @ind_list')\n",
    "train_data.index = range(0, len(train_data))"
   ]
  },
  {
   "cell_type": "markdown",
   "metadata": {},
   "source": [
    "****\n",
    "\n",
    "### get nouns using Mecab"
   ]
  },
  {
   "cell_type": "code",
   "execution_count": 17,
   "metadata": {
    "colab": {
     "base_uri": "https://localhost:8080/",
     "height": 34
    },
    "executionInfo": {
     "elapsed": 55202,
     "status": "ok",
     "timestamp": 1603848007392,
     "user": {
      "displayName": "기세현",
      "photoUrl": "",
      "userId": "06743460080794396829"
     },
     "user_tz": -540
    },
    "id": "MnauTjWTZzU3",
    "outputId": "adf75a0b-7607-4198-b72f-a8338543a4fb"
   },
   "outputs": [
    {
     "name": "stderr",
     "output_type": "stream",
     "text": [
      "100%|██████████| 39958/39958 [00:43<00:00, 909.83it/s] \n"
     ]
    }
   ],
   "source": [
    "X_train = []\n",
    "\n",
    "text = list(train_data['clear_text'])\n",
    "\n",
    "for i in tqdm(range(len(text))):\n",
    "  temp_X = []\n",
    "  temp_X = mecab.nouns(text[i]) # 토큰화\n",
    "  temp_X = [word for word in temp_X if not word in stop_words] # 불용어 제거\n",
    "  temp_X = [word for word in temp_X if len(word) > 1]\n",
    "  X_train.append(temp_X)"
   ]
  },
  {
   "cell_type": "code",
   "execution_count": 18,
   "metadata": {
    "colab": {
     "base_uri": "https://localhost:8080/",
     "height": 34
    },
    "executionInfo": {
     "elapsed": 61152,
     "status": "ok",
     "timestamp": 1603848013963,
     "user": {
      "displayName": "기세현",
      "photoUrl": "",
      "userId": "06743460080794396829"
     },
     "user_tz": -540
    },
    "id": "KYXVkkJ5Z0XI",
    "outputId": "c98ba381-fa9c-4e73-efa3-086dd19a00f9"
   },
   "outputs": [
    {
     "name": "stderr",
     "output_type": "stream",
     "text": [
      "100%|██████████| 5000/5000 [00:05<00:00, 871.28it/s]\n"
     ]
    }
   ],
   "source": [
    "X_test = []\n",
    "\n",
    "text = list(test_data['clear_text'])\n",
    "\n",
    "for i in tqdm(range(len(text))):\n",
    "  temp_X = []\n",
    "  temp_X = mecab.nouns(text[i]) # 토큰화\n",
    "  temp_X = [word for word in temp_X if not word in stop_words] # 불용어 제거\n",
    "  temp_X = [word for word in temp_X if len(word) > 1]\n",
    "  X_test.append(temp_X)"
   ]
  },
  {
   "cell_type": "markdown",
   "metadata": {},
   "source": [
    "****\n",
    "\n",
    "## 3. Modeling"
   ]
  },
  {
   "cell_type": "code",
   "execution_count": 19,
   "metadata": {
    "executionInfo": {
     "elapsed": 2932,
     "status": "ok",
     "timestamp": 1603848016904,
     "user": {
      "displayName": "기세현",
      "photoUrl": "",
      "userId": "06743460080794396829"
     },
     "user_tz": -540
    },
    "id": "x1h5_OV66WiY"
   },
   "outputs": [],
   "source": [
    "from tensorflow.keras.preprocessing.text import Tokenizer\n",
    "from tensorflow.keras.utils import to_categorical\n",
    "from tensorflow.keras.layers import *\n",
    "from tensorflow.keras.models import Sequential, load_model, Model\n",
    "from tensorflow.keras.callbacks import EarlyStopping, ModelCheckpoint,  ReduceLROnPlateau\n",
    "from tensorflow.keras.regularizers import *\n",
    "from tensorflow.keras.preprocessing.sequence import pad_sequences\n",
    "from tensorflow.keras.optimizers import Adam, RMSprop"
   ]
  },
  {
   "cell_type": "code",
   "execution_count": 20,
   "metadata": {
    "executionInfo": {
     "elapsed": 2334,
     "status": "ok",
     "timestamp": 1603848044074,
     "user": {
      "displayName": "기세현",
      "photoUrl": "",
      "userId": "06743460080794396829"
     },
     "user_tz": -540
    },
    "id": "RjHNY2niyNXQ"
   },
   "outputs": [],
   "source": [
    "tokenizer = Tokenizer()\n",
    "tokenizer.fit_on_texts(X_train)"
   ]
  },
  {
   "cell_type": "code",
   "execution_count": 21,
   "metadata": {
    "colab": {
     "base_uri": "https://localhost:8080/",
     "height": 87
    },
    "executionInfo": {
     "elapsed": 790,
     "status": "ok",
     "timestamp": 1603848045512,
     "user": {
      "displayName": "기세현",
      "photoUrl": "",
      "userId": "06743460080794396829"
     },
     "user_tz": -540
    },
    "id": "cMt_UUZm6Q7I",
    "outputId": "c3d625b7-3a88-4777-ceca-872ec24a2195"
   },
   "outputs": [
    {
     "name": "stdout",
     "output_type": "stream",
     "text": [
      "단어 집합(vocabulary)의 크기 : 45144\n",
      "등장 빈도가 10번 이하인 희귀 단어의 수: 32528\n",
      "단어 집합에서 희귀 단어의 비율: 72.05387205387206\n",
      "전체 등장 빈도에서 희귀 단어 등장 빈도 비율: 3.2528401808086937\n"
     ]
    }
   ],
   "source": [
    "threshold = 11\n",
    "total_cnt = len(tokenizer.word_index) # 단어의 수\n",
    "rare_cnt = 0 # 등장 빈도수가 threshold보다 작은 단어의 개수를 카운트\n",
    "total_freq = 0 # 훈련 데이터의 전체 단어 빈도수 총 합\n",
    "rare_freq = 0 # 등장 빈도수가 threshold보다 작은 단어의 등장 빈도수의 총 합\n",
    "\n",
    "# 단어와 빈도수의 쌍(pair)을 key와 value로 받는다.\n",
    "for key, value in tokenizer.word_counts.items():\n",
    "    total_freq = total_freq + value\n",
    "\n",
    "    # 단어의 등장 빈도수가 threshold보다 작으면\n",
    "    if(value < threshold):\n",
    "        rare_cnt = rare_cnt + 1\n",
    "        rare_freq = rare_freq + value\n",
    "\n",
    "print('단어 집합(vocabulary)의 크기 :',total_cnt)\n",
    "print('등장 빈도가 %s번 이하인 희귀 단어의 수: %s'%(threshold - 1, rare_cnt))\n",
    "print(\"단어 집합에서 희귀 단어의 비율:\", (rare_cnt / total_cnt)*100)\n",
    "print(\"전체 등장 빈도에서 희귀 단어 등장 빈도 비율:\", (rare_freq / total_freq)*100)"
   ]
  },
  {
   "cell_type": "code",
   "execution_count": 22,
   "metadata": {
    "colab": {
     "base_uri": "https://localhost:8080/",
     "height": 34
    },
    "executionInfo": {
     "elapsed": 785,
     "status": "ok",
     "timestamp": 1603848084612,
     "user": {
      "displayName": "기세현",
      "photoUrl": "",
      "userId": "06743460080794396829"
     },
     "user_tz": -540
    },
    "id": "BkjA2vLu6cXA",
    "outputId": "57180814-8573-41d2-fd23-3b3c015ef8a6"
   },
   "outputs": [
    {
     "name": "stdout",
     "output_type": "stream",
     "text": [
      "단어 집합의 크기 : 12617\n"
     ]
    }
   ],
   "source": [
    "vocab_size = total_cnt - rare_cnt + 1 # 전체 단어 개수 중 빈도수 2이하인 단어 개수는 제거. 0번 패딩 토큰을 고려하여 +1\n",
    "print('단어 집합의 크기 :',vocab_size)"
   ]
  },
  {
   "cell_type": "code",
   "execution_count": 23,
   "metadata": {
    "executionInfo": {
     "elapsed": 4692,
     "status": "ok",
     "timestamp": 1603848090866,
     "user": {
      "displayName": "기세현",
      "photoUrl": "",
      "userId": "06743460080794396829"
     },
     "user_tz": -540
    },
    "id": "lRLf_efKh8E4"
   },
   "outputs": [],
   "source": [
    "tokenizer = Tokenizer(num_words = vocab_size)\n",
    "tokenizer.fit_on_texts(X_train)\n",
    "token_X_train = tokenizer.texts_to_sequences(X_train)\n",
    "token_X_test = tokenizer.texts_to_sequences(X_test)"
   ]
  },
  {
   "cell_type": "code",
   "execution_count": 24,
   "metadata": {
    "executionInfo": {
     "elapsed": 1064,
     "status": "ok",
     "timestamp": 1603848090867,
     "user": {
      "displayName": "기세현",
      "photoUrl": "",
      "userId": "06743460080794396829"
     },
     "user_tz": -540
    },
    "id": "Fxj2RR0m6lZx"
   },
   "outputs": [],
   "source": [
    "y_train = to_categorical(np.array(train_data['category']))"
   ]
  },
  {
   "cell_type": "code",
   "execution_count": 25,
   "metadata": {
    "executionInfo": {
     "elapsed": 945,
     "status": "ok",
     "timestamp": 1603848093209,
     "user": {
      "displayName": "기세현",
      "photoUrl": "",
      "userId": "06743460080794396829"
     },
     "user_tz": -540
    },
    "id": "PzqUbNUV668L"
   },
   "outputs": [],
   "source": [
    "drop_train = [index for index, sentence in enumerate(token_X_train) if len(sentence) < 1]"
   ]
  },
  {
   "cell_type": "code",
   "execution_count": 26,
   "metadata": {
    "colab": {
     "base_uri": "https://localhost:8080/",
     "height": 52
    },
    "executionInfo": {
     "elapsed": 1048,
     "status": "ok",
     "timestamp": 1603848095122,
     "user": {
      "displayName": "기세현",
      "photoUrl": "",
      "userId": "06743460080794396829"
     },
     "user_tz": -540
    },
    "id": "XEYixRkK7APv",
    "outputId": "3c8c204b-c40f-4e39-9d1e-d2183dfaf114"
   },
   "outputs": [
    {
     "name": "stdout",
     "output_type": "stream",
     "text": [
      "39933\n",
      "39933\n"
     ]
    },
    {
     "name": "stderr",
     "output_type": "stream",
     "text": [
      "c:\\Users\\AILab\\anaconda3\\envs\\nlp\\lib\\site-packages\\numpy\\lib\\function_base.py:5071: VisibleDeprecationWarning: Creating an ndarray from ragged nested sequences (which is a list-or-tuple of lists-or-tuples-or ndarrays with different lengths or shapes) is deprecated. If you meant to do this, you must specify 'dtype=object' when creating the ndarray.\n",
      "  arr = asarray(arr)\n"
     ]
    }
   ],
   "source": [
    "# 빈 샘플들을 제거\n",
    "del_X_train = np.delete(token_X_train, drop_train, axis=0)\n",
    "del_y_train = np.delete(y_train, drop_train, axis=0)\n",
    "print(len(del_X_train))\n",
    "print(len(del_y_train))"
   ]
  },
  {
   "cell_type": "code",
   "execution_count": 27,
   "metadata": {
    "colab": {
     "base_uri": "https://localhost:8080/",
     "height": 314
    },
    "executionInfo": {
     "elapsed": 863,
     "status": "ok",
     "timestamp": 1603848098410,
     "user": {
      "displayName": "기세현",
      "photoUrl": "",
      "userId": "06743460080794396829"
     },
     "user_tz": -540
    },
    "id": "RPVYpKSq7FAI",
    "outputId": "eead4684-c69c-41eb-80b1-ea53db87e0a3"
   },
   "outputs": [
    {
     "name": "stdout",
     "output_type": "stream",
     "text": [
      "train data의 최대 길이 : 5661\n",
      "train data의 평균 길이 : 66.6274259384469\n"
     ]
    },
    {
     "data": {
      "image/png": "[encoded data removed]",
      "text/plain": [
       "<Figure size 640x480 with 1 Axes>"
      ]
     },
     "metadata": {},
     "output_type": "display_data"
    }
   ],
   "source": [
    "print('train data의 최대 길이 :',max(len(l) for l in del_X_train))\n",
    "print('train data의 평균 길이 :',sum(map(len, del_X_train))/len(del_X_train))\n",
    "plt.hist([len(s) for s in X_train], bins=50)\n",
    "plt.xlabel('length of samples')\n",
    "plt.ylabel('number of samples')\n",
    "plt.show()"
   ]
  },
  {
   "cell_type": "code",
   "execution_count": 28,
   "metadata": {
    "colab": {
     "base_uri": "https://localhost:8080/",
     "height": 317
    },
    "executionInfo": {
     "elapsed": 1051,
     "status": "ok",
     "timestamp": 1603848100937,
     "user": {
      "displayName": "기세현",
      "photoUrl": "",
      "userId": "06743460080794396829"
     },
     "user_tz": -540
    },
    "id": "bbVZITWVj9qV",
    "outputId": "ec9aa468-4c5c-4236-8778-306d3163b202"
   },
   "outputs": [
    {
     "name": "stdout",
     "output_type": "stream",
     "text": [
      "test data의 최대 길이 :  3806\n",
      "test data의 평균 길이 :  66.188\n"
     ]
    },
    {
     "data": {
      "image/png": "[encoded data removed]",
      "text/plain": [
       "<Figure size 640x480 with 1 Axes>"
      ]
     },
     "metadata": {},
     "output_type": "display_data"
    }
   ],
   "source": [
    "print(\"test data의 최대 길이 : \", max(len(l) for l in token_X_test))\n",
    "print(\"test data의 평균 길이 : \", sum(map(len, token_X_test))/ len(token_X_test))\n",
    "plt.hist([len(s) for s in token_X_test], bins=50)\n",
    "plt.xlabel('length of Data')\n",
    "plt.ylabel('number of Data')\n",
    "plt.show()"
   ]
  },
  {
   "cell_type": "code",
   "execution_count": 29,
   "metadata": {
    "executionInfo": {
     "elapsed": 775,
     "status": "ok",
     "timestamp": 1603848107033,
     "user": {
      "displayName": "기세현",
      "photoUrl": "",
      "userId": "06743460080794396829"
     },
     "user_tz": -540
    },
    "id": "om1_FYkH7R7V"
   },
   "outputs": [],
   "source": [
    "def below_threshold_len(max_len, nested_list):\n",
    "    cnt = 0\n",
    "    for s in nested_list:\n",
    "        if(len(s) <= max_len):\n",
    "            cnt = cnt + 1\n",
    "    print('전체 샘플 중 길이가 %s 이하인 샘플의 비율: %s'%(max_len, (cnt / len(nested_list))*100))"
   ]
  },
  {
   "cell_type": "code",
   "execution_count": 30,
   "metadata": {
    "colab": {
     "base_uri": "https://localhost:8080/",
     "height": 34
    },
    "executionInfo": {
     "elapsed": 783,
     "status": "ok",
     "timestamp": 1603848111764,
     "user": {
      "displayName": "기세현",
      "photoUrl": "",
      "userId": "06743460080794396829"
     },
     "user_tz": -540
    },
    "id": "E1vtvsy27SPQ",
    "outputId": "80e4b397-d2b0-433b-d8bc-f26ddf7b36df"
   },
   "outputs": [
    {
     "name": "stdout",
     "output_type": "stream",
     "text": [
      "전체 샘플 중 길이가 300 이하인 샘플의 비율: 97.22284827085367\n"
     ]
    }
   ],
   "source": [
    "max_len = 300\n",
    "below_threshold_len(max_len, del_X_train)"
   ]
  },
  {
   "cell_type": "code",
   "execution_count": 31,
   "metadata": {
    "executionInfo": {
     "elapsed": 1115,
     "status": "ok",
     "timestamp": 1603848124559,
     "user": {
      "displayName": "기세현",
      "photoUrl": "",
      "userId": "06743460080794396829"
     },
     "user_tz": -540
    },
    "id": "uhLJfn8o7S-J"
   },
   "outputs": [],
   "source": [
    "pad_X_train = pad_sequences(del_X_train, maxlen = max_len)\n",
    "pad_X_test = pad_sequences(token_X_test, maxlen = max_len)"
   ]
  },
  {
   "cell_type": "markdown",
   "metadata": {
    "id": "k24w-G79edUG"
   },
   "source": [
    "### Model 1"
   ]
  },
  {
   "cell_type": "code",
   "execution_count": 32,
   "metadata": {
    "colab": {
     "base_uri": "https://localhost:8080/",
     "height": 301
    },
    "executionInfo": {
     "elapsed": 790,
     "status": "ok",
     "timestamp": 1603848282381,
     "user": {
      "displayName": "기세현",
      "photoUrl": "",
      "userId": "06743460080794396829"
     },
     "user_tz": -540
    },
    "id": "LP7fFVKLehAm",
    "outputId": "37443624-08b7-4d28-d2d1-0c146d23de56"
   },
   "outputs": [
    {
     "name": "stdout",
     "output_type": "stream",
     "text": [
      "Model: \"sequential\"\n",
      "_________________________________________________________________\n",
      " Layer (type)                Output Shape              Param #   \n",
      "=================================================================\n",
      " embedding (Embedding)       (None, 300, 64)           807488    \n",
      "                                                                 \n",
      " conv1d (Conv1D)             (None, 300, 64)           20544     \n",
      "                                                                 \n",
      " global_max_pooling1d (Globa  (None, 64)               0         \n",
      " lMaxPooling1D)                                                  \n",
      "                                                                 \n",
      " dense (Dense)               (None, 3)                 195       \n",
      "                                                                 \n",
      "=================================================================\n",
      "Total params: 828,227\n",
      "Trainable params: 828,227\n",
      "Non-trainable params: 0\n",
      "_________________________________________________________________\n"
     ]
    }
   ],
   "source": [
    "model1 = Sequential()\n",
    "model1.add(Embedding(vocab_size,64, input_length=max_len))\n",
    "model1.add(Conv1D(64, 5, activation = 'relu', padding = 'same', kernel_regularizer=l2(0.01)))\n",
    "model1.add(GlobalMaxPooling1D())\n",
    "model1.add(Dense(3, activation = 'softmax'))\n",
    "model1.summary()"
   ]
  },
  {
   "cell_type": "code",
   "execution_count": 33,
   "metadata": {
    "executionInfo": {
     "elapsed": 953,
     "status": "ok",
     "timestamp": 1603848283236,
     "user": {
      "displayName": "기세현",
      "photoUrl": "",
      "userId": "06743460080794396829"
     },
     "user_tz": -540
    },
    "id": "7rcK08UqfEGb"
   },
   "outputs": [
    {
     "name": "stderr",
     "output_type": "stream",
     "text": [
      "c:\\Users\\AILab\\anaconda3\\envs\\nlp\\lib\\site-packages\\keras\\optimizers\\optimizer_v2\\rmsprop.py:140: UserWarning: The `lr` argument is deprecated, use `learning_rate` instead.\n",
      "  super().__init__(name, **kwargs)\n"
     ]
    }
   ],
   "source": [
    "model1.compile(optimizer=RMSprop(lr = .0005), loss='categorical_crossentropy', metrics=['acc'])\n",
    "reLR = ReduceLROnPlateau(patience = 5, verbose=1, factor = .2)\n",
    "es = EarlyStopping(monitor='val_acc', mode='max', verbose=1, patience = 2)\n",
    "mc = ModelCheckpoint(filepath = '1028_1.h5', monitor='val_acc', mode='max', verbose=1, save_best_only=True, restore_best_weights = True)"
   ]
  },
  {
   "cell_type": "code",
   "execution_count": 34,
   "metadata": {
    "colab": {
     "base_uri": "https://localhost:8080/",
     "height": 247
    },
    "executionInfo": {
     "elapsed": 14271,
     "status": "ok",
     "timestamp": 1603848298502,
     "user": {
      "displayName": "기세현",
      "photoUrl": "",
      "userId": "06743460080794396829"
     },
     "user_tz": -540
    },
    "id": "xRQ5y-ehe-g3",
    "outputId": "5dc039ce-79be-4abb-f617-45b0a4ad35c1"
   },
   "outputs": [
    {
     "name": "stdout",
     "output_type": "stream",
     "text": [
      "Epoch 1/30\n",
      "500/500 [==============================] - ETA: 0s - loss: 0.8063 - acc: 0.7797\n",
      "Epoch 1: val_acc improved from -inf to 0.85364, saving model to 1028_1.h5\n",
      "500/500 [==============================] - 116s 147ms/step - loss: 0.8063 - acc: 0.7797 - val_loss: 0.4907 - val_acc: 0.8536 - lr: 5.0000e-04\n",
      "Epoch 2/30\n",
      "500/500 [==============================] - ETA: 0s - loss: 0.4386 - acc: 0.8598\n",
      "Epoch 2: val_acc improved from 0.85364 to 0.86428, saving model to 1028_1.h5\n",
      "500/500 [==============================] - 73s 146ms/step - loss: 0.4386 - acc: 0.8598 - val_loss: 0.4102 - val_acc: 0.8643 - lr: 5.0000e-04\n",
      "Epoch 3/30\n",
      "499/500 [============================>.] - ETA: 0s - loss: 0.3810 - acc: 0.8694\n",
      "Epoch 3: val_acc did not improve from 0.86428\n",
      "500/500 [==============================] - 74s 148ms/step - loss: 0.3809 - acc: 0.8694 - val_loss: 0.3940 - val_acc: 0.8634 - lr: 5.0000e-04\n",
      "Epoch 4/30\n",
      "496/500 [============================>.] - ETA: 0s - loss: 0.3543 - acc: 0.8750\n",
      "Epoch 4: val_acc improved from 0.86428 to 0.87129, saving model to 1028_1.h5\n",
      "500/500 [==============================] - 65s 129ms/step - loss: 0.3542 - acc: 0.8750 - val_loss: 0.3623 - val_acc: 0.8713 - lr: 5.0000e-04\n",
      "Epoch 5/30\n",
      "498/500 [============================>.] - ETA: 0s - loss: 0.3377 - acc: 0.8786\n",
      "Epoch 5: val_acc improved from 0.87129 to 0.87279, saving model to 1028_1.h5\n",
      "500/500 [==============================] - 64s 129ms/step - loss: 0.3375 - acc: 0.8787 - val_loss: 0.3557 - val_acc: 0.8728 - lr: 5.0000e-04\n",
      "Epoch 6/30\n",
      "499/500 [============================>.] - ETA: 0s - loss: 0.3249 - acc: 0.8835\n",
      "Epoch 6: val_acc did not improve from 0.87279\n",
      "500/500 [==============================] - 73s 146ms/step - loss: 0.3250 - acc: 0.8834 - val_loss: 0.3515 - val_acc: 0.8723 - lr: 5.0000e-04\n",
      "Epoch 7/30\n",
      "500/500 [==============================] - ETA: 0s - loss: 0.3163 - acc: 0.8861\n",
      "Epoch 7: val_acc did not improve from 0.87279\n",
      "500/500 [==============================] - 72s 144ms/step - loss: 0.3163 - acc: 0.8861 - val_loss: 0.3478 - val_acc: 0.8710 - lr: 5.0000e-04\n",
      "Epoch 7: early stopping\n"
     ]
    }
   ],
   "source": [
    "history1 = model1.fit(pad_X_train, del_y_train, epochs=30, batch_size= 64, shuffle = True, validation_split=0.2, verbose = 1, callbacks=[es, mc, reLR])"
   ]
  },
  {
   "cell_type": "code",
   "execution_count": 35,
   "metadata": {
    "executionInfo": {
     "elapsed": 1208,
     "status": "ok",
     "timestamp": 1603848313102,
     "user": {
      "displayName": "기세현",
      "photoUrl": "",
      "userId": "06743460080794396829"
     },
     "user_tz": -540
    },
    "id": "qJ5Bqu5Lwz5l"
   },
   "outputs": [],
   "source": [
    "model1 = load_model('1028_1.h5') # val_acc = 0.87893"
   ]
  },
  {
   "cell_type": "code",
   "execution_count": 36,
   "metadata": {
    "executionInfo": {
     "elapsed": 1032,
     "status": "ok",
     "timestamp": 1603848314717,
     "user": {
      "displayName": "기세현",
      "photoUrl": "",
      "userId": "06743460080794396829"
     },
     "user_tz": -540
    },
    "id": "UfOoFKvow3Vz"
   },
   "outputs": [
    {
     "name": "stdout",
     "output_type": "stream",
     "text": [
      "157/157 [==============================] - 10s 61ms/step\n"
     ]
    }
   ],
   "source": [
    "pred1 = model1.predict(pad_X_test)"
   ]
  },
  {
   "cell_type": "markdown",
   "metadata": {
    "id": "DlBmmpG3NsSm"
   },
   "source": [
    "### Model 2"
   ]
  },
  {
   "cell_type": "code",
   "execution_count": 37,
   "metadata": {
    "colab": {
     "base_uri": "https://localhost:8080/",
     "height": 443
    },
    "executionInfo": {
     "elapsed": 761,
     "status": "ok",
     "timestamp": 1603848320427,
     "user": {
      "displayName": "기세현",
      "photoUrl": "",
      "userId": "06743460080794396829"
     },
     "user_tz": -540
    },
    "id": "9eLxBosGkkLt",
    "outputId": "07b12f94-333a-4675-89a8-af1d66b3a245"
   },
   "outputs": [
    {
     "name": "stdout",
     "output_type": "stream",
     "text": [
      "Model: \"sequential_1\"\n",
      "_________________________________________________________________\n",
      " Layer (type)                Output Shape              Param #   \n",
      "=================================================================\n",
      " embedding_1 (Embedding)     (None, 300, 64)           807488    \n",
      "                                                                 \n",
      " conv1d_1 (Conv1D)           (None, 296, 64)           20544     \n",
      "                                                                 \n",
      " max_pooling1d (MaxPooling1D  (None, 59, 64)           0         \n",
      " )                                                               \n",
      "                                                                 \n",
      " dropout (Dropout)           (None, 59, 64)            0         \n",
      "                                                                 \n",
      " conv1d_2 (Conv1D)           (None, 55, 64)            20544     \n",
      "                                                                 \n",
      " global_max_pooling1d_1 (Glo  (None, 64)               0         \n",
      " balMaxPooling1D)                                                \n",
      "                                                                 \n",
      " batch_normalization (BatchN  (None, 64)               256       \n",
      " ormalization)                                                   \n",
      "                                                                 \n",
      " dense_1 (Dense)             (None, 3)                 195       \n",
      "                                                                 \n",
      "=================================================================\n",
      "Total params: 849,027\n",
      "Trainable params: 848,899\n",
      "Non-trainable params: 128\n",
      "_________________________________________________________________\n"
     ]
    }
   ],
   "source": [
    "model2 = Sequential()\n",
    "model2.add(Embedding(vocab_size, 64, input_length = max_len))\n",
    "model2.add(Conv1D(64, 5, activation = 'relu',kernel_regularizer= l2(0.001)))\n",
    "model2.add(MaxPooling1D(5))\n",
    "model2.add(Dropout(.5))\n",
    "model2.add(Conv1D(64, 5 ,activation = 'relu', kernel_regularizer=  l2(.001)))\n",
    "model2.add(GlobalMaxPooling1D())\n",
    "model2.add(BatchNormalization())\n",
    "model2.add(Dense(3, activation = 'softmax', kernel_regularizer = l2(0.001)))\n",
    "model2.summary()"
   ]
  },
  {
   "cell_type": "code",
   "execution_count": 38,
   "metadata": {
    "colab": {
     "base_uri": "https://localhost:8080/",
     "height": 461
    },
    "executionInfo": {
     "elapsed": 33813,
     "status": "ok",
     "timestamp": 1603848362745,
     "user": {
      "displayName": "기세현",
      "photoUrl": "",
      "userId": "06743460080794396829"
     },
     "user_tz": -540
    },
    "id": "vZXVB74GZNqD",
    "outputId": "3e0751c1-b150-4642-895f-c327bd9166be"
   },
   "outputs": [
    {
     "name": "stdout",
     "output_type": "stream",
     "text": [
      "Epoch 1/15\n",
      "482/500 [===========================>..] - ETA: 3s - loss: 0.7023 - acc: 0.7499\n",
      "Epoch 1: val_acc improved from -inf to 0.87041, saving model to 1028_2.h5\n",
      "500/500 [==============================] - 113s 206ms/step - loss: 0.6959 - acc: 0.7533 - val_loss: 0.5500 - val_acc: 0.8704\n",
      "Epoch 2/15\n",
      "497/500 [============================>.] - ETA: 0s - loss: 0.4393 - acc: 0.8736\n",
      "Epoch 2: val_acc improved from 0.87041 to 0.87542, saving model to 1028_2.h5\n",
      "500/500 [==============================] - 96s 193ms/step - loss: 0.4393 - acc: 0.8735 - val_loss: 0.4133 - val_acc: 0.8754\n",
      "Epoch 3/15\n",
      "500/500 [==============================] - ETA: 0s - loss: 0.3769 - acc: 0.8881\n",
      "Epoch 3: val_acc improved from 0.87542 to 0.87955, saving model to 1028_2.h5\n",
      "500/500 [==============================] - 97s 195ms/step - loss: 0.3769 - acc: 0.8881 - val_loss: 0.3890 - val_acc: 0.8796\n",
      "Epoch 4/15\n",
      "499/500 [============================>.] - ETA: 0s - loss: 0.3353 - acc: 0.9004\n",
      "Epoch 4: val_acc improved from 0.87955 to 0.88218, saving model to 1028_2.h5\n",
      "500/500 [==============================] - 117s 234ms/step - loss: 0.3354 - acc: 0.9004 - val_loss: 0.3789 - val_acc: 0.8822\n",
      "Epoch 5/15\n",
      "497/500 [============================>.] - ETA: 0s - loss: 0.3038 - acc: 0.9092\n",
      "Epoch 5: val_acc did not improve from 0.88218\n",
      "500/500 [==============================] - 106s 213ms/step - loss: 0.3036 - acc: 0.9093 - val_loss: 0.3760 - val_acc: 0.8794\n",
      "Epoch 6/15\n",
      "498/500 [============================>.] - ETA: 0s - loss: 0.2738 - acc: 0.9185\n",
      "Epoch 6: val_acc did not improve from 0.88218\n",
      "500/500 [==============================] - 108s 216ms/step - loss: 0.2737 - acc: 0.9186 - val_loss: 0.3895 - val_acc: 0.8767\n",
      "Epoch 7/15\n",
      "499/500 [============================>.] - ETA: 0s - loss: 0.2485 - acc: 0.9262\n",
      "Epoch 7: val_acc did not improve from 0.88218\n",
      "500/500 [==============================] - 102s 204ms/step - loss: 0.2485 - acc: 0.9262 - val_loss: 0.3882 - val_acc: 0.8754\n",
      "Epoch 7: early stopping\n"
     ]
    }
   ],
   "source": [
    "model2.compile(optimizer = RMSprop(lr = .0005), loss = 'categorical_crossentropy', metrics = ['acc'])\n",
    "\n",
    "callback_ear = [EarlyStopping(monitor = 'val_loss', patience = 2, mode = 'min', verbose = 1), ModelCheckpoint(filepath = '1028_2.h5', monitor = 'val_acc', save_best_only = True, mode = 'max',verbose = 1)]\n",
    "history2 = model2.fit(pad_X_train, del_y_train, epochs = 15, batch_size = 64, verbose = 1, validation_split = .2, callbacks=callback_ear)"
   ]
  },
  {
   "cell_type": "code",
   "execution_count": 39,
   "metadata": {
    "executionInfo": {
     "elapsed": 1774,
     "status": "ok",
     "timestamp": 1603848370460,
     "user": {
      "displayName": "기세현",
      "photoUrl": "",
      "userId": "06743460080794396829"
     },
     "user_tz": -540
    },
    "id": "vUDh_go_wV9d"
   },
   "outputs": [],
   "source": [
    "model2 = load_model('1028_2.h5') # val_acc = 0.8841"
   ]
  },
  {
   "cell_type": "code",
   "execution_count": 40,
   "metadata": {
    "executionInfo": {
     "elapsed": 1401,
     "status": "ok",
     "timestamp": 1603848381694,
     "user": {
      "displayName": "기세현",
      "photoUrl": "",
      "userId": "06743460080794396829"
     },
     "user_tz": -540
    },
    "id": "qrYxaLuNwlYE"
   },
   "outputs": [
    {
     "name": "stdout",
     "output_type": "stream",
     "text": [
      "157/157 [==============================] - 10s 63ms/step\n"
     ]
    }
   ],
   "source": [
    "pred2 = model2.predict(pad_X_test)"
   ]
  },
  {
   "cell_type": "markdown",
   "metadata": {},
   "source": [
    "### Model 3"
   ]
  },
  {
   "cell_type": "code",
   "execution_count": 41,
   "metadata": {
    "colab": {
     "base_uri": "https://localhost:8080/",
     "height": 443
    },
    "executionInfo": {
     "elapsed": 1226,
     "status": "ok",
     "timestamp": 1603848391760,
     "user": {
      "displayName": "기세현",
      "photoUrl": "",
      "userId": "06743460080794396829"
     },
     "user_tz": -540
    },
    "id": "16sLzPsWqhIp",
    "outputId": "f548d34a-abf2-4c5c-ed2f-a355617528b1"
   },
   "outputs": [
    {
     "name": "stdout",
     "output_type": "stream",
     "text": [
      "Model: \"sequential_2\"\n",
      "_________________________________________________________________\n",
      " Layer (type)                Output Shape              Param #   \n",
      "=================================================================\n",
      " embedding_2 (Embedding)     (None, 300, 64)           807488    \n",
      "                                                                 \n",
      " conv1d_3 (Conv1D)           (None, 296, 32)           10272     \n",
      "                                                                 \n",
      " conv1d_4 (Conv1D)           (None, 292, 32)           5152      \n",
      "                                                                 \n",
      " conv1d_5 (Conv1D)           (None, 288, 32)           5152      \n",
      "                                                                 \n",
      " max_pooling1d_1 (MaxPooling  (None, 72, 32)           0         \n",
      " 1D)                                                             \n",
      "                                                                 \n",
      " lstm (LSTM)                 (None, 16)                3136      \n",
      "                                                                 \n",
      " dropout_1 (Dropout)         (None, 16)                0         \n",
      "                                                                 \n",
      " dense_2 (Dense)             (None, 3)                 51        \n",
      "                                                                 \n",
      "=================================================================\n",
      "Total params: 831,251\n",
      "Trainable params: 831,251\n",
      "Non-trainable params: 0\n",
      "_________________________________________________________________\n"
     ]
    }
   ],
   "source": [
    "model3 = Sequential()\n",
    "model3.add(Embedding(vocab_size, 64, input_length = max_len))\n",
    "model3.add(Conv1D(32, 5, activation='relu'))\n",
    "model3.add(Conv1D(32, 5, activation='relu'))\n",
    "model3.add(Conv1D(32, 5, activation='relu'))\n",
    "model3.add(MaxPooling1D(pool_size=4))\n",
    "model3.add(LSTM(16))\n",
    "model3.add(Dropout(0.4))\n",
    "model3.add(Dense(3, activation='softmax'))\n",
    "model3.summary()"
   ]
  },
  {
   "cell_type": "code",
   "execution_count": 42,
   "metadata": {
    "executionInfo": {
     "elapsed": 749,
     "status": "ok",
     "timestamp": 1603848396800,
     "user": {
      "displayName": "기세현",
      "photoUrl": "",
      "userId": "06743460080794396829"
     },
     "user_tz": -540
    },
    "id": "UKoInF5FrZBU"
   },
   "outputs": [],
   "source": [
    "model3.compile(loss='categorical_crossentropy', optimizer=RMSprop(lr = .0005), metrics=['acc'])"
   ]
  },
  {
   "cell_type": "code",
   "execution_count": 43,
   "metadata": {
    "colab": {
     "base_uri": "https://localhost:8080/",
     "height": 461
    },
    "executionInfo": {
     "elapsed": 71448,
     "status": "ok",
     "timestamp": 1603848469850,
     "user": {
      "displayName": "기세현",
      "photoUrl": "",
      "userId": "06743460080794396829"
     },
     "user_tz": -540
    },
    "id": "yN8tdeCHrMs5",
    "outputId": "1657c606-f0e8-41c7-f21f-e1aeea6a8283"
   },
   "outputs": [
    {
     "name": "stdout",
     "output_type": "stream",
     "text": [
      "Epoch 1/30\n",
      "999/999 [==============================] - ETA: 0s - loss: 0.5455 - acc: 0.7818\n",
      "Epoch 1: val_acc improved from -inf to 0.86528, saving model to 1028_3.h5\n",
      "999/999 [==============================] - 171s 165ms/step - loss: 0.5455 - acc: 0.7818 - val_loss: 0.3667 - val_acc: 0.8653\n",
      "Epoch 2/30\n",
      "999/999 [==============================] - ETA: 0s - loss: 0.3563 - acc: 0.8741\n",
      "Epoch 2: val_acc improved from 0.86528 to 0.87079, saving model to 1028_3.h5\n",
      "999/999 [==============================] - 158s 159ms/step - loss: 0.3563 - acc: 0.8741 - val_loss: 0.3367 - val_acc: 0.8708\n",
      "Epoch 3/30\n",
      "997/999 [============================>.] - ETA: 0s - loss: 0.3251 - acc: 0.8877\n",
      "Epoch 3: val_acc improved from 0.87079 to 0.87667, saving model to 1028_3.h5\n",
      "999/999 [==============================] - 159s 159ms/step - loss: 0.3250 - acc: 0.8877 - val_loss: 0.3230 - val_acc: 0.8767\n",
      "Epoch 4/30\n",
      "998/999 [============================>.] - ETA: 0s - loss: 0.3050 - acc: 0.8921\n",
      "Epoch 4: val_acc improved from 0.87667 to 0.87768, saving model to 1028_3.h5\n",
      "999/999 [==============================] - 160s 160ms/step - loss: 0.3049 - acc: 0.8921 - val_loss: 0.3297 - val_acc: 0.8777\n",
      "Epoch 5/30\n",
      "999/999 [==============================] - ETA: 0s - loss: 0.2898 - acc: 0.8965\n",
      "Epoch 5: val_acc improved from 0.87768 to 0.87868, saving model to 1028_3.h5\n",
      "999/999 [==============================] - 160s 161ms/step - loss: 0.2898 - acc: 0.8965 - val_loss: 0.3359 - val_acc: 0.8787\n",
      "Epoch 6/30\n",
      "997/999 [============================>.] - ETA: 0s - loss: 0.2744 - acc: 0.9012\n",
      "Epoch 6: val_acc did not improve from 0.87868\n",
      "999/999 [==============================] - 159s 159ms/step - loss: 0.2746 - acc: 0.9011 - val_loss: 0.3445 - val_acc: 0.8734\n",
      "Epoch 7/30\n",
      "998/999 [============================>.] - ETA: 0s - loss: 0.2662 - acc: 0.9056\n",
      "Epoch 7: val_acc did not improve from 0.87868\n",
      "999/999 [==============================] - 158s 158ms/step - loss: 0.2662 - acc: 0.9056 - val_loss: 0.3375 - val_acc: 0.8784\n",
      "Epoch 7: early stopping\n"
     ]
    }
   ],
   "source": [
    "callback_ear = [EarlyStopping(monitor = 'val_acc', mode = 'max', patience = 2, verbose = 1), ModelCheckpoint(filepath = '1028_3.h5', monitor = 'val_acc', save_best_only = True, mode = 'max', verbose = 1)]\n",
    "\n",
    "history3 = model3.fit(pad_X_train, del_y_train, epochs=30, batch_size=32, validation_split=0.2, verbose = 1,shuffle = True, callbacks= callback_ear)"
   ]
  },
  {
   "cell_type": "code",
   "execution_count": 44,
   "metadata": {
    "executionInfo": {
     "elapsed": 2124,
     "status": "ok",
     "timestamp": 1603848478682,
     "user": {
      "displayName": "기세현",
      "photoUrl": "",
      "userId": "06743460080794396829"
     },
     "user_tz": -540
    },
    "id": "CIEA4hkssE_M"
   },
   "outputs": [],
   "source": [
    "model3 = load_model('1028_3.h5')"
   ]
  },
  {
   "cell_type": "code",
   "execution_count": 45,
   "metadata": {
    "executionInfo": {
     "elapsed": 2347,
     "status": "ok",
     "timestamp": 1603848481461,
     "user": {
      "displayName": "기세현",
      "photoUrl": "",
      "userId": "06743460080794396829"
     },
     "user_tz": -540
    },
    "id": "z_3uGjqcsIYg"
   },
   "outputs": [
    {
     "name": "stdout",
     "output_type": "stream",
     "text": [
      "157/157 [==============================] - 13s 45ms/step\n"
     ]
    }
   ],
   "source": [
    "pred3 = model3.predict(pad_X_test)"
   ]
  },
  {
   "cell_type": "markdown",
   "metadata": {
    "id": "8T-0PtkYKqWw"
   },
   "source": [
    "### Model 4"
   ]
  },
  {
   "cell_type": "code",
   "execution_count": 46,
   "metadata": {
    "colab": {
     "base_uri": "https://localhost:8080/",
     "height": 372
    },
    "executionInfo": {
     "elapsed": 944,
     "status": "ok",
     "timestamp": 1603848536396,
     "user": {
      "displayName": "기세현",
      "photoUrl": "",
      "userId": "06743460080794396829"
     },
     "user_tz": -540
    },
    "id": "NA4W-QGOY_ov",
    "outputId": "09112a64-c10b-4fa2-cd40-e1e0b6dc9b38"
   },
   "outputs": [
    {
     "name": "stdout",
     "output_type": "stream",
     "text": [
      "Model: \"sequential_3\"\n",
      "_________________________________________________________________\n",
      " Layer (type)                Output Shape              Param #   \n",
      "=================================================================\n",
      " embedding_3 (Embedding)     (None, 300, 32)           403744    \n",
      "                                                                 \n",
      " dropout_2 (Dropout)         (None, 300, 32)           0         \n",
      "                                                                 \n",
      " conv1d_6 (Conv1D)           (None, 296, 32)           5152      \n",
      "                                                                 \n",
      " max_pooling1d_2 (MaxPooling  (None, 74, 32)           0         \n",
      " 1D)                                                             \n",
      "                                                                 \n",
      " lstm_1 (LSTM)               (None, 32)                8320      \n",
      "                                                                 \n",
      " dense_3 (Dense)             (None, 3)                 99        \n",
      "                                                                 \n",
      "=================================================================\n",
      "Total params: 417,315\n",
      "Trainable params: 417,315\n",
      "Non-trainable params: 0\n",
      "_________________________________________________________________\n"
     ]
    }
   ],
   "source": [
    "model4 = Sequential()\n",
    "model4.add(Embedding(vocab_size, 32, input_length=max_len))\n",
    "model4.add(Dropout(0.3))\n",
    "model4.add(Conv1D(32, 5, activation='relu'))\n",
    "model4.add(MaxPooling1D(pool_size=4))\n",
    "model4.add(LSTM(32))\n",
    "model4.add(Dense(3, activation='softmax'))\n",
    "model4.summary()"
   ]
  },
  {
   "cell_type": "code",
   "execution_count": 47,
   "metadata": {
    "executionInfo": {
     "elapsed": 813,
     "status": "ok",
     "timestamp": 1603848539510,
     "user": {
      "displayName": "기세현",
      "photoUrl": "",
      "userId": "06743460080794396829"
     },
     "user_tz": -540
    },
    "id": "Hj7faE7o0io-"
   },
   "outputs": [],
   "source": [
    "model4.compile(loss='categorical_crossentropy', optimizer=RMSprop(lr = .0005), metrics=['acc'])"
   ]
  },
  {
   "cell_type": "code",
   "execution_count": 48,
   "metadata": {
    "colab": {
     "base_uri": "https://localhost:8080/",
     "height": 603
    },
    "executionInfo": {
     "elapsed": 44486,
     "status": "ok",
     "timestamp": 1603848589046,
     "user": {
      "displayName": "기세현",
      "photoUrl": "",
      "userId": "06743460080794396829"
     },
     "user_tz": -540
    },
    "id": "E2AOM_Dz6IC3",
    "outputId": "35916e76-c6d9-4f1b-905d-c2283abb6e3b"
   },
   "outputs": [
    {
     "name": "stdout",
     "output_type": "stream",
     "text": [
      "Epoch 1/30\n",
      "500/500 [==============================] - ETA: 0s - loss: 0.5859 - acc: 0.7585\n",
      "Epoch 1: val_acc improved from -inf to 0.87329, saving model to 1028_4.h5\n",
      "500/500 [==============================] - 84s 142ms/step - loss: 0.5859 - acc: 0.7585 - val_loss: 0.3575 - val_acc: 0.8733\n",
      "Epoch 2/30\n",
      "500/500 [==============================] - ETA: 0s - loss: 0.3297 - acc: 0.8759\n",
      "Epoch 2: val_acc did not improve from 0.87329\n",
      "500/500 [==============================] - 70s 140ms/step - loss: 0.3297 - acc: 0.8759 - val_loss: 0.3388 - val_acc: 0.8687\n",
      "Epoch 3/30\n",
      "498/500 [============================>.] - ETA: 0s - loss: 0.2909 - acc: 0.8898\n",
      "Epoch 3: val_acc improved from 0.87329 to 0.88431, saving model to 1028_4.h5\n",
      "500/500 [==============================] - 16s 33ms/step - loss: 0.2913 - acc: 0.8897 - val_loss: 0.3126 - val_acc: 0.8843\n",
      "Epoch 4/30\n",
      "497/500 [============================>.] - ETA: 0s - loss: 0.2726 - acc: 0.8947\n",
      "Epoch 4: val_acc did not improve from 0.88431\n",
      "500/500 [==============================] - 10s 19ms/step - loss: 0.2725 - acc: 0.8947 - val_loss: 0.3184 - val_acc: 0.8804\n",
      "Epoch 5/30\n",
      "499/500 [============================>.] - ETA: 0s - loss: 0.2608 - acc: 0.9001\n",
      "Epoch 5: val_acc did not improve from 0.88431\n",
      "500/500 [==============================] - 9s 17ms/step - loss: 0.2607 - acc: 0.9001 - val_loss: 0.3160 - val_acc: 0.8804\n",
      "Epoch 5: early stopping\n"
     ]
    }
   ],
   "source": [
    "callback_ear = [EarlyStopping(monitor = 'val_acc', mode = 'max', patience = 2, verbose = 1), ModelCheckpoint(filepath = '1028_4.h5', monitor = 'val_acc', save_best_only = True, mode = 'max', verbose = 1)]\n",
    "\n",
    "history4 = model4.fit(pad_X_train, del_y_train, epochs=30, batch_size=64, validation_split=0.2, verbose = 1,shuffle = True, callbacks= callback_ear)"
   ]
  },
  {
   "cell_type": "code",
   "execution_count": 49,
   "metadata": {
    "executionInfo": {
     "elapsed": 1813,
     "status": "ok",
     "timestamp": 1603848593714,
     "user": {
      "displayName": "기세현",
      "photoUrl": "",
      "userId": "06743460080794396829"
     },
     "user_tz": -540
    },
    "id": "DpPURr1IvqeK"
   },
   "outputs": [],
   "source": [
    "model4 = load_model('1028_4.h5')"
   ]
  },
  {
   "cell_type": "code",
   "execution_count": 50,
   "metadata": {
    "executionInfo": {
     "elapsed": 1854,
     "status": "ok",
     "timestamp": 1603848597222,
     "user": {
      "displayName": "기세현",
      "photoUrl": "",
      "userId": "06743460080794396829"
     },
     "user_tz": -540
    },
    "id": "nZlIpKpcvv4E"
   },
   "outputs": [
    {
     "name": "stdout",
     "output_type": "stream",
     "text": [
      "157/157 [==============================] - 1s 6ms/step\n"
     ]
    }
   ],
   "source": [
    "pred4 = model4.predict(pad_X_test)"
   ]
  },
  {
   "cell_type": "markdown",
   "metadata": {
    "id": "PaDtN5dvOIwh"
   },
   "source": [
    "## Model Ensemble"
   ]
  },
  {
   "cell_type": "code",
   "execution_count": 51,
   "metadata": {
    "executionInfo": {
     "elapsed": 773,
     "status": "ok",
     "timestamp": 1603848598732,
     "user": {
      "displayName": "기세현",
      "photoUrl": "",
      "userId": "06743460080794396829"
     },
     "user_tz": -540
    },
    "id": "25nrvrjJEVmp"
   },
   "outputs": [],
   "source": [
    "mean_pred = .1 * pred1 + .3 * pred2 + .2 * pred3 + .4 * pred4"
   ]
  },
  {
   "cell_type": "code",
   "execution_count": 52,
   "metadata": {
    "executionInfo": {
     "elapsed": 747,
     "status": "ok",
     "timestamp": 1603848600025,
     "user": {
      "displayName": "기세현",
      "photoUrl": "",
      "userId": "06743460080794396829"
     },
     "user_tz": -540
    },
    "id": "rUhvhLzzP7PI"
   },
   "outputs": [],
   "source": [
    "submission.category = np.argmax(mean_pred, axis = -1)"
   ]
  },
  {
   "cell_type": "code",
   "execution_count": 53,
   "metadata": {
    "executionInfo": {
     "elapsed": 1249,
     "status": "ok",
     "timestamp": 1603848602166,
     "user": {
      "displayName": "기세현",
      "photoUrl": "",
      "userId": "06743460080794396829"
     },
     "user_tz": -540
    },
    "id": "LRxFove2P-TN"
   },
   "outputs": [],
   "source": [
    "submission.to_csv(\"ens1028.csv\", index = False)"
   ]
  },
  {
   "cell_type": "markdown",
   "metadata": {},
   "source": [
    "# Finished!"
   ]
  }
 ],
 "metadata": {
  "accelerator": "GPU",
  "colab": {
   "collapsed_sections": [],
   "machine_shape": "hm",
   "name": "blue_house.ipynb",
   "provenance": []
  },
  "kernelspec": {
   "display_name": "Python 3.8.13 ('nlp')",
   "language": "python",
   "name": "python3"
  },
  "language_info": {
   "codemirror_mode": {
    "name": "ipython",
    "version": 3
   },
   "file_extension": ".py",
   "mimetype": "text/x-python",
   "name": "python",
   "nbconvert_exporter": "python",
   "pygments_lexer": "ipython3",
   "version": "3.8.13"
  },
  "vscode": {
   "interpreter": {
    "hash": "a49a91213855a7f74548edfccfc88372b75ae7e60b217471c41c4232d9b5fa93"
   }
  }
 },
 "nbformat": 4,
 "nbformat_minor": 1
}
