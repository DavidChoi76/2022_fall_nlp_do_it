{
  "nbformat": 4,
  "nbformat_minor": 0,
  "metadata": {
    "colab": {
      "provenance": [],
      "toc_visible": true,
      "authorship_tag": "ABX9TyO7XlAB1l3v4YmAMAW7Fnlx",
      "include_colab_link": true
    },
    "kernelspec": {
      "name": "python3",
      "display_name": "Python 3"
    },
    "language_info": {
      "name": "python"
    }
  },
  "cells": [
    {
      "cell_type": "markdown",
      "metadata": {
        "id": "view-in-github",
        "colab_type": "text"
      },
      "source": [
        "<a href=\"https://colab.research.google.com/github/DavidChoi76/2022_fall_nlp_do_it/blob/main/%EB%8D%B0%EC%9D%B4%EC%BD%98_%EC%B2%AD%EC%99%80%EB%8C%80%EC%B2%AD%EC%9B%90_%EB%B2%A0%EC%9D%B4%EC%8A%A4%EB%9D%BC%EC%9D%B8_%EB%B9%88%EC%B9%B8%EC%8B%A4%EC%8A%B5.ipynb\" target=\"_parent\"><img src=\"https://colab.research.google.com/assets/colab-badge.svg\" alt=\"Open In Colab\"/></a>"
      ]
    },
    {
      "cell_type": "markdown",
      "source": [
        "나와야 되는 것 : (4-2, 4-3에서 목록 만들자) \n",
        "\n",
        "- 패키지 로드하고, 인스톨\n",
        "- 랜덤시드 고정 (= 같은 결과 재현 위해서)\n",
        "- 로거 찍는거 <<\n",
        "- 데이터 임포트\n",
        "    - CSV → TXT 변환\n",
        "- 학습용 말뭉치 (데이터셋) 선언\n",
        "- 학습에 쓰일 인자들 + 각종 인자들을 미리 선언해줍니다\n",
        "- 토크나이저\n",
        "    - 데이터 클렌징은 되어 있었음\n",
        "    - 만들고\n",
        "    - 학습시키나\n",
        "- 데이터 전처리 <<<\n",
        "    - 자료형 변환. csv / txt → df\n",
        "    - 구두점 제거\n",
        "- 데이터 로더를 가져오기\n",
        "- 프리트레인 된 모델 가져오기: 모델명, 인자값, 허깅페이스에서 가져옴\n",
        "- 다운스트림 적용할 때 : 여기 들어가던가?????\n",
        "- 평가 데이터 만들기\n",
        "- 평가를 위한 코드????\n",
        "- 태스크 정의\n",
        "- 트레이너 만들고\n",
        "- 학습\n",
        "\n"
      ],
      "metadata": {
        "id": "EisZxvM43JdT"
      }
    },
    {
      "cell_type": "markdown",
      "source": [
        "#1 환경설정 : 패키지 등"
      ],
      "metadata": {
        "id": "b1WXYGO_1dx8"
      }
    },
    {
      "cell_type": "code",
      "execution_count": null,
      "metadata": {
        "id": "5VlWS8FH1VdI",
        "colab": {
          "base_uri": "https://localhost:8080/"
        },
        "outputId": "f2b85b31-325a-4a19-dc1c-96e096466796"
      },
      "outputs": [
        {
          "output_type": "stream",
          "name": "stdout",
          "text": [
            "Mounted at /content/gdrive/\n"
          ]
        }
      ],
      "source": [
        "from google.colab import drive \n",
        "\n",
        "drive.mount('/content/gdrive/')"
      ]
    },
    {
      "cell_type": "code",
      "source": [
        "!pip install konlpy"
      ],
      "metadata": {
        "id": "Z9pUjDJs1Z4i",
        "colab": {
          "base_uri": "https://localhost:8080/"
        },
        "outputId": "a011ad6d-50b7-49ff-d687-db7839ed414a"
      },
      "execution_count": null,
      "outputs": [
        {
          "output_type": "stream",
          "name": "stdout",
          "text": [
            "Looking in indexes: https://pypi.org/simple, https://us-python.pkg.dev/colab-wheels/public/simple/\n",
            "Collecting konlpy\n",
            "  Downloading konlpy-0.6.0-py2.py3-none-any.whl (19.4 MB)\n",
            "\u001b[K     |████████████████████████████████| 19.4 MB 1.1 MB/s \n",
            "\u001b[?25hRequirement already satisfied: numpy>=1.6 in /usr/local/lib/python3.7/dist-packages (from konlpy) (1.21.6)\n",
            "Requirement already satisfied: lxml>=4.1.0 in /usr/local/lib/python3.7/dist-packages (from konlpy) (4.9.1)\n",
            "Collecting JPype1>=0.7.0\n",
            "  Downloading JPype1-1.4.0-cp37-cp37m-manylinux_2_5_x86_64.manylinux1_x86_64.whl (453 kB)\n",
            "\u001b[K     |████████████████████████████████| 453 kB 56.5 MB/s \n",
            "\u001b[?25hRequirement already satisfied: typing-extensions in /usr/local/lib/python3.7/dist-packages (from JPype1>=0.7.0->konlpy) (4.1.1)\n",
            "Installing collected packages: JPype1, konlpy\n",
            "Successfully installed JPype1-1.4.0 konlpy-0.6.0\n"
          ]
        }
      ]
    },
    {
      "cell_type": "code",
      "source": [
        "import pandas as pd\n",
        "import urllib.request\n",
        "%matplotlib inline\n",
        "import matplotlib.pyplot as plt\n",
        "import re\n",
        "from konlpy.tag import Okt\n",
        "from tensorflow.keras.preprocessing.text import Tokenizer\n",
        "import numpy as np\n",
        "from tensorflow.keras.preprocessing.sequence import pad_sequences\n",
        "import os\n",
        "from tensorflow.keras.datasets import reuters\n",
        "from tensorflow.keras.models import Sequential\n",
        "from tensorflow.keras.layers import Dense, LSTM, Embedding\n",
        "from tensorflow.keras.preprocessing.sequence import pad_sequences\n",
        "from tensorflow.keras.utils import to_categorical\n",
        "from tensorflow.keras.models import load_model\n",
        "from tqdm import tqdm"
      ],
      "metadata": {
        "id": "4ogUDQV61eG8"
      },
      "execution_count": null,
      "outputs": []
    },
    {
      "cell_type": "markdown",
      "source": [
        "#2 데이터 불러오고, 전처리"
      ],
      "metadata": {
        "id": "-EORgbKR1eMk"
      }
    },
    {
      "cell_type": "code",
      "source": [
        "test = pd.read_csv('/content/gdrive/My Drive/cwcw/train.csv', encoding = 'utf-8')\n",
        "train = pd.read_csv('/content/gdrive/My Drive/cwcw/test.csv', encoding = 'utf-8' )\n",
        "\n"
      ],
      "metadata": {
        "id": "rPCDerjP1eTJ"
      },
      "execution_count": null,
      "outputs": []
    },
    {
      "cell_type": "markdown",
      "source": [],
      "metadata": {
        "id": "VS5U7JKD1eaJ"
      }
    },
    {
      "cell_type": "code",
      "source": [
        "# 띄어쓰기 두개씩 된 것. 지워줘야 한다. \n",
        "import re\n",
        "regex = r\"[!\\\"#\\$%&\\'\\(\\)\\*\\+,-\\./:;<=>\\?@\\[\\\\\\]\\^_`{\\|}~]\"\n",
        "subst = \"\"\n",
        "\n",
        "train = train.dropna()   # 데이터 중간 null 제거.(index ) -> pandas.dropna하기 \n",
        "train_cleaned = []\n",
        "\n",
        "for idx, row in train.iterrows():\n",
        "  row.data = re.sub('n', '', row.data)      # 백스페이스 기호 지우기!\n",
        "  row.data = re.sub(\"\\s\\s+\" , \" \", row.data) # 띄어쓰기 제거 \n",
        "  row.data = re.sub(regex, subst, row.data)  # punctuation 제거!\t\n",
        "  train_cleaned.append(row.data) \n",
        "\t#train.append(train_cleaned)\n",
        "\t#train_cleaned.concat([idx, row.data])\n",
        "\n",
        "train[\"cleaned\"] = train_cleaned # for문 밖에 있는 게 맞을 것 같아요\n",
        "\n",
        "print(train.head(10))\n"
      ],
      "metadata": {
        "id": "CRgqIb_I1egJ",
        "colab": {
          "base_uri": "https://localhost:8080/"
        },
        "outputId": "8b9f2585-2d29-4743-c092-4ba310f7662b"
      },
      "execution_count": null,
      "outputs": [
        {
          "output_type": "stream",
          "name": "stdout",
          "text": [
            "   index                                               data  \\\n",
            "0      0  소년법 폐지해주세요. 법 아래에서 보호받아야 할 아이들이\\n법으로 인해 보호받지 못...   \n",
            "1      1  국공립 유치원 증설에 관하여. 국공립 유치원 부지 학보와건립및 증설에\\n*지역 어린...   \n",
            "2      2                   나경원파면. 나경원의원의  동계올림픽 위원을 파면해 주세요   \n",
            "3      3  국민위원에가 삼성편만들어요. 삼성에서 11년간  일하고 혈암과 백혈병 진단을 받은 ...   \n",
            "4      4  방과후,유치원,어린이집 영어교육을 유지시켜주세요. 저는 아이 셋 키우는 평범한 주부...   \n",
            "5      5  유은혜는 당장 사퇴하라!!!. 능력도 전문성도 없는 사람이 국회의윈 그리고 대통령의...   \n",
            "6      6  신태용 감독. 노벨상 수상 청원합니다 !!!. 한국축구가 가장어려운 시기에,  용기...   \n",
            "7      7  사회복무요원 최저임금 보장. 사회복무요원들은 의식주 보장이 아무것도 되질 않는데 왜...   \n",
            "8      8  로또복권  의구심. 로또복귄 운영에  대한 민초들의  의구심을 해소하기 위하여 추첨...   \n",
            "9      9  다자녀의기준이 뭘까요?. 오늘 상수도사업본부 감면신청을 보고 , 당황스러웠습니다. ...   \n",
            "\n",
            "                                             cleaned  \n",
            "0  소년법 폐지해주세요 법 아래에서 보호받아야 할 아이들이법으로 인해 보호받지 못하고 ...  \n",
            "1  국공립 유치원 증설에 관하여 국공립 유치원 부지 학보와건립및 증설에지역 어린이 놀이...  \n",
            "2                     나경원파면 나경원의원의 동계올림픽 위원을 파면해 주세요  \n",
            "3  국민위원에가 삼성편만들어요 삼성에서 11년간 일하고 혈암과 백혈병 진단을 받은 사람...  \n",
            "4  방과후유치원어린이집 영어교육을 유지시켜주세요 저는 아이 셋 키우는 평범한 주부입니다...  \n",
            "5  유은혜는 당장 사퇴하라 능력도 전문성도 없는 사람이 국회의윈 그리고 대통령의 친분으...  \n",
            "6  신태용 감독 노벨상 수상 청원합니다  한국축구가 가장어려운 시기에 용기있기 감독을 ...  \n",
            "7  사회복무요원 최저임금 보장 사회복무요원들은 의식주 보장이 아무것도 되질 않는데 왜 ...  \n",
            "8  로또복권 의구심 로또복귄 운영에 대한 민초들의 의구심을 해소하기 위하여 추첨은 생방...  \n",
            "9  다자녀의기준이 뭘까요 오늘 상수도사업본부 감면신청을 보고  당황스러웠습니다 18세이...  \n"
          ]
        }
      ]
    },
    {
      "cell_type": "code",
      "source": [
        "print(train['data'][2818:2820])"
      ],
      "metadata": {
        "id": "eS8zi59r1eqU",
        "colab": {
          "base_uri": "https://localhost:8080/"
        },
        "outputId": "8e2dfc91-6dfa-4bbe-8d8b-edcf21392195"
      },
      "execution_count": null,
      "outputs": [
        {
          "output_type": "stream",
          "name": "stdout",
          "text": [
            "2818    국민청원을 값어치 떨어지게한 이들을 벌받게 해주십시오.. 정말 힘든 사람들과 이야기...\n",
            "2819    이영표를 축구 국대감독으로 추대. 대한민국 최고의 수비수  이영표를 대한민국 축구 ...\n",
            "Name: data, dtype: object\n"
          ]
        }
      ]
    },
    {
      "cell_type": "markdown",
      "source": [],
      "metadata": {
        "id": "grIPv3m31euj"
      }
    },
    {
      "cell_type": "code",
      "source": [],
      "metadata": {
        "id": "D9tjnJ6S1e0v",
        "colab": {
          "base_uri": "https://localhost:8080/"
        },
        "outputId": "f71acd22-29ab-4950-e6df-59f16c084584"
      },
      "execution_count": null,
      "outputs": [
        {
          "output_type": "stream",
          "name": "stdout",
          "text": [
            "   index                                               data\n",
            "0      0  소년법 폐지해주세요. 법 아래에서 보호받아야 할 아이들이\\n법으로 인해 보호받지 못...\n",
            "1      1  국공립 유치원 증설에 관하여. 국공립 유치원 부지 학보와건립및 증설에\\n*지역 어린...\n",
            "2      2                   나경원파면. 나경원의원의  동계올림픽 위원을 파면해 주세요\n",
            "3      3  국민위원에가 삼성편만들어요. 삼성에서 11년간  일하고 혈암과 백혈병 진단을 받은 ...\n",
            "4      4  방과후,유치원,어린이집 영어교육을 유지시켜주세요. 저는 아이 셋 키우는 평범한 주부...\n",
            "5      5  유은혜는 당장 사퇴하라!!!. 능력도 전문성도 없는 사람이 국회의윈 그리고 대통령의...\n",
            "6      6  신태용 감독. 노벨상 수상 청원합니다 !!!. 한국축구가 가장어려운 시기에,  용기...\n",
            "7      7  사회복무요원 최저임금 보장. 사회복무요원들은 의식주 보장이 아무것도 되질 않는데 왜...\n",
            "8      8  로또복권  의구심. 로또복귄 운영에  대한 민초들의  의구심을 해소하기 위하여 추첨...\n",
            "9      9  다자녀의기준이 뭘까요?. 오늘 상수도사업본부 감면신청을 보고 , 당황스러웠습니다. ...\n"
          ]
        }
      ]
    },
    {
      "cell_type": "markdown",
      "source": [],
      "metadata": {
        "id": "umpPr_9F1e5y"
      }
    },
    {
      "cell_type": "code",
      "source": [],
      "metadata": {
        "id": "G-JOyH241fkR"
      },
      "execution_count": null,
      "outputs": []
    },
    {
      "cell_type": "markdown",
      "source": [
        "#3 모델 생성, 학습, 예측\n",
        "3-1 LSTM으로, \n",
        "\n",
        "3-2 Huggingface 모듈 불러와서 하는걸로 (처음으로 돌아가서, 패키지 로딩부터 다시)"
      ],
      "metadata": {
        "id": "thtbJ0yh1frX"
      }
    },
    {
      "cell_type": "code",
      "source": [],
      "metadata": {
        "id": "dt6DiPCa1f0A"
      },
      "execution_count": null,
      "outputs": []
    },
    {
      "cell_type": "markdown",
      "source": [],
      "metadata": {
        "id": "xi6x91OX1f8-"
      }
    }
  ]
}